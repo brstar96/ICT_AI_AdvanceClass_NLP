{
 "cells": [
  {
   "cell_type": "code",
   "execution_count": 23,
   "metadata": {},
   "outputs": [],
   "source": [
    "from selenium import webdriver\n",
    "\n",
    "driver = webdriver.Chrome()"
   ]
  },
  {
   "cell_type": "code",
   "execution_count": 24,
   "metadata": {},
   "outputs": [],
   "source": [
    "url = \"https://nid.naver.com/nidlogin.login?url=http%3A%2F%2Fmail.naver.com%2F\"\n",
    "driver.get(url)\n",
    "\n",
    "# 창이 뜬 후 로그인은 사람이 수행.\n"
   ]
  },
  {
   "cell_type": "code",
   "execution_count": 25,
   "metadata": {},
   "outputs": [],
   "source": [
    "import requests\n",
    "session = requests.Session() # get이 든 post는 이 session을 통해 컨트롤할 예정\n",
    "# driver.get_cookies() : dictionary\n",
    "for cookie in driver.get_cookies():\n",
    "    session.cookies.set(cookie[\"name\"], cookie[\"value\"]) # 셀레니움에서 받은 쿠기가 들어옴. "
   ]
  },
  {
   "cell_type": "code",
   "execution_count": 26,
   "metadata": {},
   "outputs": [],
   "source": [
    "driver.close() # 더이상 셀레니움 필요 없음"
   ]
  },
  {
   "cell_type": "code",
   "execution_count": 27,
   "metadata": {},
   "outputs": [
    {
     "data": {
      "text/plain": [
       "'{\"currentTime\":1554383470,\"lastPage\":29,\"Message\":\"\",\"pageSize\":15,\"unreadCount\":4,\"mailData\":[{\"mailSN\":32609,\"folderSN\":0,\"folderName\":null,\"iconType\":0,\"status\":2359309,\"from\":{\"name\":\"이선주[Sun-Joo Lee]\",\"email\":\"sun-joo.lee@linecorp.com\"},\"subject\":\"RE: [LINE] 안녕하세요, 라인 채용담당자 이선주 입니다.\",\"receivedTime\":1552363473,\"sentTime\":1552363473,\"size\":47864,\"attachCount\":0,\"iDomainEmail\":\"brstar96@naver.com\",\"priority\":3,\"securityLevel\":null,\"reSend\":false,\"color\":\"#ffffff\",\"preview\":\"\",\"mimeSN\":\"1552363473.166610.60042.5888\",\"toList\":[{\"name\":\"이명규\",\"email\":\"brstar96@naver.com\"}],\"spamType\":null,\"attachInfo\":[],\"threadId\":\"<16c928a879727c9e6c6be9b74b18e2@cweb03.nmdf.nhnsystem.com>\",\"bccList\":[],\"receiveByBcc\":false,\"threadCount\":0,\"unreadThreadCount\":0,\"firstLocatedTime\":1552363473,\"remindAt\":0,\"threadRemindAt\":0,\"threadRemindFlag\":0,\"category\":-1,\"bigFile\":false,\"toMe\":true,\"statusHex\":\"24000d\",\"isDomainMail\":false},{\"mailSN\":32582,\"folderSN\":0,\"folderName\":null,\"iconType\":0,\"status\":2097165,\"from\":{\"name\":\"이선주[Sun-Joo Lee]\",\"email\":\"sun-joo.lee@linecorp.com\"},\"subject\":\"[LINE] 안녕하세요, 라인 채용담당자 이선주 입니다.\",\"receivedTime\":1552291963,\"sentTime\":1552291963,\"size\":39099,\"attachCount\":0,\"iDomainEmail\":\"brstar96@naver.com\",\"priority\":3,\"securityLevel\":null,\"reSend\":false,\"color\":\"#ffffff\",\"preview\":\"\",\"mimeSN\":\"1552291963.837219.58540.59136\",\"toList\":[{\"name\":\"\",\"email\":\"brstar96@naver.com\"}],\"spamType\":null,\"attachInfo\":[],\"threadId\":\"<16c928a879727c9e6c6be9b74b18e2@cweb03.nmdf.nhnsystem.com>\",\"bccList\":[],\"receiveByBcc\":false,\"threadCount\":0,\"unreadThreadCount\":0,\"firstLocatedTime\":1552291963,\"remindAt\":0,\"threadRemindAt\":0,\"threadRemindFlag\":0,\"category\":-1,\"bigFile\":false,\"toMe\":true,\"statusHex\":\"20000d\",\"isDomainMail\":false},{\"mailSN\":32578,\"folderSN\":0,\"folderName\":null,\"iconType\":0,\"status\":2097165,\"from\":{\"name\":\"김위건\",\"email\":\"wuikyun@ssu.ac.kr\"},\"subject\":\"연구윤리 교육과정 신청 명단 양식입니다.\",\"receivedTime\":1552284159,\"sentTime\":1552284158,\"size\":45590,\"attachCount\":1,\"iDomainEmail\":\"brstar96@naver.com\",\"priority\":3,\"securityLevel\":null,\"reSend\":false,\"color\":\"#ffffff\",\"preview\":\"\",\"mimeSN\":\"1552284159.63343.55930.14080\",\"toList\":[{\"name\":\"\",\"email\":\"brstar96@naver.com\"}],\"spamType\":null,\"attachInfo\":[],\"threadId\":\"<5c85fa613fee_@_imoxion.com>\",\"bccList\":[],\"receiveByBcc\":false,\"threadCount\":0,\"unreadThreadCount\":0,\"firstLocatedTime\":1552284159,\"remindAt\":0,\"threadRemindAt\":0,\"threadRemindFlag\":0,\"category\":-1,\"bigFile\":false,\"toMe\":true,\"statusHex\":\"20000d\",\"isDomainMail\":false},{\"mailSN\":32529,\"folderSN\":0,\"folderName\":null,\"iconType\":0,\"status\":2097157,\"from\":{\"name\":\"DSC2019\",\"email\":\"dsc2019@navercorp.com\"},\"subject\":\"[DSC2019] 지원서 접수 URL 입니다.\",\"receivedTime\":1552006536,\"sentTime\":1552006536,\"size\":5902,\"attachCount\":0,\"iDomainEmail\":\"brstar96@naver.com\",\"priority\":3,\"securityLevel\":null,\"reSend\":false,\"color\":\"#ffffff\",\"preview\":\"\",\"mimeSN\":\"1552006536.795890.55930.38656\",\"toList\":[{\"name\":\"\",\"email\":\"brstar96@naver.com\"}],\"spamType\":null,\"attachInfo\":[],\"threadId\":\"<81d22c43c7319ebad86ce1ed6dc46711@cweb03.nmdf.nhnsystem.com>\",\"bccList\":[],\"receiveByBcc\":false,\"threadCount\":0,\"unreadThreadCount\":0,\"firstLocatedTime\":1552006536,\"remindAt\":0,\"threadRemindAt\":0,\"threadRemindFlag\":0,\"category\":-1,\"bigFile\":false,\"toMe\":true,\"statusHex\":\"200005\",\"isDomainMail\":false},{\"mailSN\":32514,\"folderSN\":0,\"folderName\":null,\"iconType\":0,\"status\":2097157,\"from\":{\"name\":\"NAVER 채용\",\"email\":\"NO-REPLY@navercorp.com\"},\"subject\":\"[안내] NAVER 입사지원서 접수 완료\",\"receivedTime\":1551943532,\"sentTime\":1551943532,\"size\":9212,\"attachCount\":0,\"iDomainEmail\":\"brstar96@naver.com\",\"priority\":3,\"securityLevel\":null,\"reSend\":false,\"color\":\"#ffffff\",\"preview\":\"\",\"mimeSN\":\"1551943532.292179.60042.26368\",\"toList\":[{\"name\":\"이명규\",\"email\":\"brstar96@naver.com\"}],\"spamType\":null,\"attachInfo\":[],\"threadId\":\"<954982857.4068915.1551943532222.JavaMail.irteam@cvrtp01.nesp.nhnsystem.com>\",\"bccList\":[],\"receiveByBcc\":false,\"threadCount\":0,\"unreadThreadCount\":0,\"firstLocatedTime\":1551943532,\"remindAt\":0,\"threadRemindAt\":0,\"threadRemindFlag\":0,\"category\":-1,\"bigFile\":false,\"toMe\":true,\"statusHex\":\"200005\",\"isDomainMail\":false},{\"mailSN\":32511,\"folderSN\":0,\"folderName\":null,\"iconType\":0,\"status\":2097157,\"from\":{\"name\":\"deeperence\",\"email\":\"noreply@github.com\"},\"subject\":\"MYEONGGYULEE made you an owner of the deeperence organization\",\"receivedTime\":1551927254,\"sentTime\":1551927252,\"size\":4308,\"attachCount\":0,\"iDomainEmail\":\"brstar96@naver.com\",\"priority\":3,\"securityLevel\":null,\"reSend\":false,\"color\":\"#ffffff\",\"preview\":\"\",\"mimeSN\":\"1551927254.805571.63381.63232\",\"toList\":[{\"name\":\"MYEONGGYULEE\",\"email\":\"brstar96@naver.com\"}],\"spamType\":null,\"attachInfo\":[],\"threadId\":\"<5c8087d43acf4_3f483f87428d45c4258182@github-lowworker-1ffe0ab.cp1-iad.github.net.mail>\",\"bccList\":[],\"receiveByBcc\":false,\"threadCount\":0,\"unreadThreadCount\":0,\"firstLocatedTime\":1551927254,\"remindAt\":0,\"threadRemindAt\":0,\"threadRemindFlag\":0,\"category\":-1,\"bigFile\":false,\"toMe\":true,\"statusHex\":\"200005\",\"isDomainMail\":false},{\"mailSN\":32490,\"folderSN\":0,\"folderName\":null,\"iconType\":0,\"status\":2097157,\"from\":{\"name\":\"NVIDIA Accounts\",\"email\":\"noreply@account-nvidia.com\"},\"subject\":\"Create an NVIDIA account\",\"receivedTime\":1551837347,\"sentTime\":1551837345,\"size\":18536,\"attachCount\":0,\"iDomainEmail\":\"brstar96@naver.com\",\"priority\":3,\"securityLevel\":null,\"reSend\":false,\"color\":\"#ffffff\",\"preview\":\"\",\"mimeSN\":\"1551837348.64338.65384.38656\",\"toList\":[{\"name\":\"brstar96@naver.com\",\"email\":\"brstar96@naver.com\"}],\"spamType\":null,\"attachInfo\":[],\"threadId\":\"<30646027.20190306015545.5c7f28a1191c58.04588792@mail01.tmail.nvidia.com>\",\"bccList\":[],\"receiveByBcc\":false,\"threadCount\":0,\"unreadThreadCount\":0,\"firstLocatedTime\":1551837347,\"remindAt\":0,\"threadRemindAt\":0,\"threadRemindFlag\":0,\"category\":-1,\"bigFile\":false,\"toMe\":true,\"statusHex\":\"200005\",\"isDomainMail\":false},{\"mailSN\":32471,\"folderSN\":0,\"folderName\":null,\"iconType\":0,\"status\":2097157,\"from\":{\"name\":\"아마존웹서비스\",\"email\":\"aws-korea-marketing@amazon.com\"},\"subject\":\"세션 선택 확인 |  4월 18일 선호 트랙을 선택해 주셔서 감사합니다.\",\"receivedTime\":1551769097,\"sentTime\":1551769093,\"size\":47430,\"attachCount\":0,\"iDomainEmail\":\"brstar96@naver.com\",\"priority\":3,\"securityLevel\":null,\"reSend\":false,\"color\":\"#ffffff\",\"preview\":\"\",\"mimeSN\":\"1551769097.650749.56666.5888\",\"toList\":[{\"name\":\"\",\"email\":\"brstar96@naver.com\"}],\"spamType\":null,\"attachInfo\":[],\"threadId\":\"<010001694ca5473c-53d9dfcd-75e0-45d4-b397-fed145ed1293-000000@email.amazonses.com>\",\"bccList\":[],\"receiveByBcc\":false,\"threadCount\":0,\"unreadThreadCount\":0,\"firstLocatedTime\":1551769097,\"remindAt\":0,\"threadRemindAt\":0,\"threadRemindFlag\":0,\"category\":213,\"bigFile\":false,\"toMe\":true,\"statusHex\":\"200005\",\"isDomainMail\":false},{\"mailSN\":32469,\"folderSN\":0,\"folderName\":null,\"iconType\":0,\"status\":2097157,\"from\":{\"name\":\"FASTCAMPUS\",\"email\":\"notifications+330bd3b4@m.teachable.com\"},\"subject\":\"Reset Password Instructions\",\"receivedTime\":1551758907,\"sentTime\":1551758902,\"size\":10480,\"attachCount\":0,\"iDomainEmail\":\"brstar96@naver.com\",\"priority\":3,\"securityLevel\":null,\"reSend\":false,\"color\":\"#ffffff\",\"preview\":\"\",\"mimeSN\":\"1551758907.92999.54591.22272\",\"toList\":[{\"name\":\"\",\"email\":\"brstar96@naver.com\"}],\"spamType\":null,\"attachInfo\":[],\"threadId\":\"<5c7df63625b1a_112acd354b8b106004d@ip-10-0-160-178.ec2.internal.mail>\",\"bccList\":[],\"receiveByBcc\":false,\"threadCount\":0,\"unreadThreadCount\":0,\"firstLocatedTime\":1551758907,\"remindAt\":0,\"threadRemindAt\":0,\"threadRemindFlag\":0,\"category\":-1,\"bigFile\":false,\"toMe\":true,\"statusHex\":\"200005\",\"isDomainMail\":false},{\"mailSN\":32459,\"folderSN\":0,\"folderName\":null,\"iconType\":0,\"status\":2097157,\"from\":{\"name\":\"권태희\",\"email\":\"taehee.kwon@navercorp.com\"},\"subject\":\" [NAVER] AI 해커톤_AI Vision 우승팀 변경사항 안내드립니다.\",\"receivedTime\":1551753261,\"sentTime\":1551753260,\"size\":11016,\"attachCount\":0,\"iDomainEmail\":\"brstar96@naver.com\",\"priority\":3,\"securityLevel\":null,\"reSend\":false,\"color\":\"#ffffff\",\"preview\":\"\",\"mimeSN\":\"1551753261.663169.63381.5888\",\"toList\":[{\"name\":\"\",\"email\":\"brstar96@naver.com\"}],\"spamType\":null,\"attachInfo\":[],\"threadId\":\"<f81fc3d60f3f209f4b623ddbd3ae8a@cweb01.nmdf.nhnsystem.com>\",\"bccList\":[],\"receiveByBcc\":false,\"threadCount\":0,\"unreadThreadCount\":0,\"firstLocatedTime\":1551753261,\"remindAt\":0,\"threadRemindAt\":0,\"threadRemindFlag\":0,\"category\":-1,\"bigFile\":false,\"toMe\":true,\"statusHex\":\"200005\",\"isDomainMail\":false},{\"mailSN\":32443,\"folderSN\":0,\"folderName\":null,\"iconType\":0,\"status\":2097157,\"from\":{\"name\":\"Adrian at PyImageSearch\",\"email\":\"adrian@pyimagesearch.com\"},\"subject\":\"*Better* edge detection with OpenCV?\",\"receivedTime\":1551714612,\"sentTime\":1551714609,\"size\":27547,\"attachCount\":0,\"iDomainEmail\":\"brstar96@naver.com\",\"priority\":3,\"securityLevel\":null,\"reSend\":false,\"color\":\"#ffffff\",\"preview\":\"\",\"mimeSN\":\"1551714612.701190.63381.34560\",\"toList\":[{\"name\":\"\",\"email\":\"brstar96@naver.com\"}],\"spamType\":null,\"attachInfo\":[],\"threadId\":\"<CVDZ4EL-QKmVdMB_vAjvRg@ismtpd0012p1iad1.sendgrid.net>\",\"bccList\":[],\"receiveByBcc\":false,\"threadCount\":0,\"unreadThreadCount\":0,\"firstLocatedTime\":1551714612,\"remindAt\":0,\"threadRemindAt\":0,\"threadRemindFlag\":0,\"category\":-1,\"bigFile\":false,\"toMe\":true,\"statusHex\":\"200005\",\"isDomainMail\":false},{\"mailSN\":32382,\"folderSN\":0,\"folderName\":null,\"iconType\":0,\"status\":2097157,\"from\":{\"name\":\"groovers\",\"email\":\"mailmaster@groovers.kr\"},\"subject\":\"[그루버스] 서비스 종료 안내\",\"receivedTime\":1551322277,\"sentTime\":1551322255,\"size\":5535,\"attachCount\":0,\"iDomainEmail\":\"brstar96@naver.com\",\"priority\":3,\"securityLevel\":null,\"reSend\":false,\"color\":\"#ffffff\",\"preview\":\"\",\"mimeSN\":\"1551322277.640756.55398.34560\",\"toList\":[{\"name\":\"brstar96@naver.com\",\"email\":\"brstar96@naver.com\"}],\"spamType\":null,\"attachInfo\":[],\"threadId\":\"\",\"bccList\":[],\"receiveByBcc\":false,\"threadCount\":0,\"unreadThreadCount\":0,\"firstLocatedTime\":1551322277,\"remindAt\":0,\"threadRemindAt\":0,\"threadRemindFlag\":0,\"category\":213,\"bigFile\":false,\"toMe\":true,\"statusHex\":\"200005\",\"isDomainMail\":false},{\"mailSN\":32349,\"folderSN\":0,\"folderName\":null,\"iconType\":0,\"status\":5,\"from\":{\"name\":\"Donggeun_Kim\",\"email\":\"notifications@github.com\"},\"subject\":\"Re: [AiHackathon2018/AI-Vision] Cheat_Key 팀 코드입니다. (#310)\",\"receivedTime\":1551187921,\"sentTime\":1551187918,\"size\":7751,\"attachCount\":0,\"iDomainEmail\":\"brstar96@naver.com\",\"priority\":3,\"securityLevel\":null,\"reSend\":false,\"color\":\"#ffffff\",\"preview\":\"\",\"mimeSN\":\"1551187921.618771.57743.34560\",\"toList\":[{\"name\":\"AiHackathon2018/AI-Vision\",\"email\":\"AI-Vision@noreply.github.com\"}],\"spamType\":null,\"attachInfo\":[],\"threadId\":\"<AiHackathon2018/AI-Vision/issues/310@github.com>\",\"bccList\":[],\"receiveByBcc\":false,\"threadCount\":0,\"unreadThreadCount\":0,\"firstLocatedTime\":1551187921,\"remindAt\":0,\"threadRemindAt\":0,\"threadRemindFlag\":0,\"category\":-1,\"bigFile\":false,\"toMe\":false,\"statusHex\":\"5\",\"isDomainMail\":false},{\"mailSN\":32347,\"folderSN\":0,\"folderName\":null,\"iconType\":0,\"status\":2097157,\"from\":{\"name\":\"권태희\",\"email\":\"taehee.kwon@navercorp.com\"},\"subject\":\"[NAVER] AI 해커톤_AI Vision 오프라인 결선 만족도 설문조사\",\"receivedTime\":1551172197,\"sentTime\":1551172195,\"size\":275553,\"attachCount\":0,\"iDomainEmail\":\"brstar96@naver.com\",\"priority\":3,\"securityLevel\":null,\"reSend\":false,\"color\":\"#ffffff\",\"preview\":\"\",\"mimeSN\":\"1551172197.300242.63381.22272\",\"toList\":[{\"name\":\"\",\"email\":\"brstar96@naver.com\"}],\"spamType\":null,\"attachInfo\":[],\"threadId\":\"<f81fc3d60f3f209f4b623ddbd3ae8a@cweb01.nmdf.nhnsystem.com>\",\"bccList\":[],\"receiveByBcc\":false,\"threadCount\":0,\"unreadThreadCount\":0,\"firstLocatedTime\":1551172197,\"remindAt\":0,\"threadRemindAt\":0,\"threadRemindFlag\":0,\"category\":-1,\"bigFile\":false,\"toMe\":true,\"statusHex\":\"200005\",\"isDomainMail\":false},{\"mailSN\":32309,\"folderSN\":0,\"folderName\":null,\"iconType\":0,\"status\":2359309,\"from\":{\"name\":\"Kyoungsu Oh\",\"email\":\"oks@ssu.ac.kr\"},\"subject\":\"Re: 교수님 안녕하세요, 2월 초 인사드린 이명규 학생입니다.\",\"receivedTime\":1551087478,\"sentTime\":1551087461,\"size\":45305,\"attachCount\":0,\"iDomainEmail\":\"brstar96@naver.com\",\"priority\":3,\"securityLevel\":null,\"reSend\":false,\"color\":\"#ffffff\",\"preview\":\"\",\"mimeSN\":\"1551087478.187702.55930.9984\",\"toList\":[{\"name\":\"이명규\",\"email\":\"brstar96@naver.com\"}],\"spamType\":null,\"attachInfo\":[],\"threadId\":\"<5ca74bf14b87716d836f6cfd13fab@cweb010.nm.nfra.io>\",\"bccList\":[],\"receiveByBcc\":false,\"threadCount\":0,\"unreadThreadCount\":0,\"firstLocatedTime\":1551087478,\"remindAt\":0,\"threadRemindAt\":0,\"threadRemindFlag\":0,\"category\":-1,\"bigFile\":false,\"toMe\":true,\"statusHex\":\"24000d\",\"isDomainMail\":false}],\"folderName\":\"받은메일함\",\"totalCount\":435,\"listCount\":15,\"Result\":\"OK\"}'"
      ]
     },
     "execution_count": 27,
     "metadata": {},
     "output_type": "execute_result"
    }
   ],
   "source": [
    "url = \"https://mail.naver.com/json/list\"\n",
    "data = {\n",
    "    \"page\":2, \n",
    "    \"sortField\":1,\n",
    "    \"sortType\":0,\n",
    "    \"folderSN\":0,\n",
    "    \"isUnread\":\"false\",\n",
    "    \"u\":\"brstar96\"\n",
    "}\n",
    "\n",
    "resp = session.post(url, data) # response 객체 생성\n",
    "resp.text # 네이버는 틀은 그대로 둔 채 주기적으로 자바스크립트가 돌며 서버로부터 메일과 관련한 내용을 체크해 받아옴.\n"
   ]
  },
  {
   "cell_type": "code",
   "execution_count": null,
   "metadata": {},
   "outputs": [],
   "source": []
  }
 ],
 "metadata": {
  "kernelspec": {
   "display_name": "Python 3",
   "language": "python",
   "name": "python3"
  },
  "language_info": {
   "codemirror_mode": {
    "name": "ipython",
    "version": 3
   },
   "file_extension": ".py",
   "mimetype": "text/x-python",
   "name": "python",
   "nbconvert_exporter": "python",
   "pygments_lexer": "ipython3",
   "version": "3.7.1"
  }
 },
 "nbformat": 4,
 "nbformat_minor": 2
}

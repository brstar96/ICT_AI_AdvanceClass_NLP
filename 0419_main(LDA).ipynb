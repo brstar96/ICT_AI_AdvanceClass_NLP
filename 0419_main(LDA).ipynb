{
 "cells": [
  {
   "cell_type": "code",
   "execution_count": 1,
   "metadata": {},
   "outputs": [],
   "source": [
    "collection = [\n",
    "    [\"Hadoop\", \"Big Data\", \"HBase\", \"Java\", \"Spark\", \"Storm\", \"Cassandra\"],\n",
    "    [\"NoSQL\", \"MongoDB\", \"Cassandra\", \"HBase\", \"Postgres\"],\n",
    "    [\"Python\", \"scikit-learn\", \"scipy\", \"numpy\", \"statsmodels\", \"pandas\"],\n",
    "    [\"R\", \"Python\", \"statistics\", \"regression\", \"probability\"],\n",
    "    [\"machine learning\", \"regression\", \"decision trees\", \"libsvm\"],\n",
    "    [\"Python\", \"R\", \"Java\", \"C++\", \"Haskell\", \"programming languages\"],\n",
    "    [\"statistics\", \"probability\", \"mathematics\", \"theory\"],\n",
    "    [\"machine learning\", \"scikit-learn\", \"Mahout\", \"neural networks\"],\n",
    "    [\"neural networks\", \"deep learning\", \"Big Data\", \"artificial intelligence\"],\n",
    "    [\"Hadoop\", \"Java\", \"MapReduce\", \"Big Data\"],\n",
    "    [\"statistics\", \"R\", \"statsmodels\"],\n",
    "    [\"C++\", \"deep learning\", \"artificial intelligence\", \"probability\"],\n",
    "    [\"pandas\", \"R\", \"Python\"],\n",
    "    [\"databases\", \"HBase\", \"Postgres\", \"MySQL\", \"MongoDB\"],\n",
    "    [\"libsvm\", \"regression\", \"support vector machines\"]\n",
    "]"
   ]
  },
  {
   "cell_type": "code",
   "execution_count": 2,
   "metadata": {},
   "outputs": [],
   "source": [
    "from collections import defaultdict\n",
    "\n",
    "# DTM\n",
    "documents = defaultdict(lambda: defaultdict(int))\n",
    "vocabulary = list()\n",
    "\n",
    "for i, d in enumerate(collection): # i : 문서제목, d : i번째 문서 내 단어 목록\n",
    "    for term in d:\n",
    "        documents[i][term.lower()] += 1 # 아직 Z assignment는 안한상태. \n",
    "        vocabulary.append(term.lower())\n",
    "        \n",
    "vocabulary = list(set(vocabulary))"
   ]
  },
  {
   "cell_type": "code",
   "execution_count": 3,
   "metadata": {},
   "outputs": [],
   "source": [
    "alpha = 0.1 \n",
    "beta = 0.1\n",
    "\n",
    "K = 3 # 토픽 개수\n",
    "\n",
    "M = len(documents)\n",
    "V = len(vocabulary)\n",
    "\n",
    "# 특정 토픽에 몇 개의 단어가 있는지 => 분모\n",
    "topicTermCount = defaultdict(int)\n",
    "\n",
    "# 특정 문서의 단어에 상관없이 토픽 할당 횟수\n",
    "docTopicDistribution = defaultdict(lambda: defaultdict(int))\n",
    "# [document][0번째토픽:몇개의단어, 1번째토픽:몇개의단어]정보를 담고있음. \n",
    "\n",
    "#문서에 상관없이 특정 단어의 토픽 할당 횟수\n",
    "topicTermDistribution = defaultdict(lambda: defaultdict(int))\n",
    "#[topic][vocabulary 0:몇번, ..., n]\n",
    "\n",
    "# z_ml = m번째 문서 1번째 단어의 Topic\n",
    "# M개의 문서만큼 => N개의 단어 => Topic\n",
    "termTopicAssignmentMatrix = defaultdict(lambda: defaultdict(int))\n",
    "# Z[document][term] = Topic\n",
    "# n(i, (j, r)) = i번째 토픽의 횟수, j번째 문서의 r번째 단어"
   ]
  },
  {
   "cell_type": "code",
   "execution_count": 4,
   "metadata": {},
   "outputs": [],
   "source": [
    "# 기본적인 아이디어는 아래와 같다. \n",
    "\n",
    "# Z를 랜덤하게 initialize\n",
    "from random import randrange, seed\n",
    "\n",
    "seed(0) # 모두 같은 결과를 유도하기 위함(테스트)\n",
    "\n",
    "for i, termList in enumerate(collection): # i번째 문서를 뽑음\n",
    "    for j, term in enumerate(termList):\n",
    "        token = term.lower()\n",
    "        topic = randrange(K) # 0~2 사이의 int 하나를 받음. KNN과 같이 비지도학습이므로 컴퓨터가 알아서 토픽을 할당해 클러스터링해야한다. \n",
    "        \n",
    "        # 총 100개의 단어가 나왔다면 아래 셋의 합은 100이 되어야 함. \n",
    "        topicTermCount[topic] += 1 # 2번식의 분모에 필요. (3짜리 list에 넣어줌)\n",
    "        docTopicDistribution[i][topic] += 1 # 1번식때문에 필요(어느 doc의 몇번째 topic에 몇개만큼 단어가 할당되어 있는지)\n",
    "        topicTermDistribution[topic][term] += 1 \n",
    "        \n",
    "        termTopicAssignmentMatrix[i][j] = topic # i번째 문서에서 나온 n(여기선 j)번째 단어에 대한 topic assignment. 즉 수식의 Z와 같음. (어느 문서에 나온 특정 위치를 골라내기 위해 사용.)"
   ]
  },
  {
   "cell_type": "code",
   "execution_count": 5,
   "metadata": {
    "scrolled": true
   },
   "outputs": [
    {
     "data": {
      "text/plain": [
       "defaultdict(<function __main__.<lambda>()>,\n",
       "            {1: defaultdict(int,\n",
       "                         {'Hadoop': 1,\n",
       "                          'Big Data': 2,\n",
       "                          'Java': 2,\n",
       "                          'Storm': 1,\n",
       "                          'Cassandra': 2,\n",
       "                          'NoSQL': 1,\n",
       "                          'MongoDB': 1,\n",
       "                          'scipy': 1,\n",
       "                          'R': 2,\n",
       "                          'machine learning': 1,\n",
       "                          'programming languages': 1,\n",
       "                          'statistics': 1,\n",
       "                          'probability': 2,\n",
       "                          'Mahout': 1,\n",
       "                          'neural networks': 1,\n",
       "                          'deep learning': 1,\n",
       "                          'artificial intelligence': 1,\n",
       "                          'Python': 1}),\n",
       "             0: defaultdict(int,\n",
       "                         {'HBase': 2,\n",
       "                          'Postgres': 2,\n",
       "                          'scikit-learn': 1,\n",
       "                          'numpy': 1,\n",
       "                          'statsmodels': 1,\n",
       "                          'probability': 1,\n",
       "                          'regression': 2,\n",
       "                          'libsvm': 2,\n",
       "                          'Haskell': 1,\n",
       "                          'machine learning': 1,\n",
       "                          'Big Data': 1,\n",
       "                          'Hadoop': 1,\n",
       "                          'Java': 1,\n",
       "                          'C++': 1,\n",
       "                          'pandas': 1,\n",
       "                          'MongoDB': 1}),\n",
       "             2: defaultdict(int,\n",
       "                         {'Spark': 1,\n",
       "                          'HBase': 1,\n",
       "                          'Python': 3,\n",
       "                          'pandas': 1,\n",
       "                          'statistics': 2,\n",
       "                          'regression': 1,\n",
       "                          'decision trees': 1,\n",
       "                          'C++': 1,\n",
       "                          'mathematics': 1,\n",
       "                          'theory': 1,\n",
       "                          'scikit-learn': 1,\n",
       "                          'neural networks': 1,\n",
       "                          'artificial intelligence': 1,\n",
       "                          'MapReduce': 1,\n",
       "                          'R': 2,\n",
       "                          'statsmodels': 1,\n",
       "                          'deep learning': 1,\n",
       "                          'databases': 1,\n",
       "                          'MySQL': 1,\n",
       "                          'support vector machines': 1})})"
      ]
     },
     "execution_count": 5,
     "metadata": {},
     "output_type": "execute_result"
    }
   ],
   "source": [
    "topicTermDistribution"
   ]
  },
  {
   "cell_type": "code",
   "execution_count": 6,
   "metadata": {},
   "outputs": [
    {
     "ename": "SyntaxError",
     "evalue": "positional argument follows keyword argument (<ipython-input-6-61e208fb0cd1>, line 2)",
     "output_type": "error",
     "traceback": [
      "\u001b[1;36m  File \u001b[1;32m\"<ipython-input-6-61e208fb0cd1>\"\u001b[1;36m, line \u001b[1;32m2\u001b[0m\n\u001b[1;33m    print(\"{0:2d}번째 문서: {1}번 토픽\".format(i, sorted(topics.items(), key = lambda x:x[1], reversed)))\u001b[0m\n\u001b[1;37m                                                                                                  \n^\u001b[0m\n\u001b[1;31mSyntaxError\u001b[0m\u001b[1;31m:\u001b[0m positional argument follows keyword argument\n"
     ]
    }
   ],
   "source": [
    "for i, topics in docTopicDistribution.items():\n",
    "    print(\"{0:2d}번째 문서: {1}번 토픽\".format(i, sorted(topics.items(), key = lambda x:x[1], reversed)))"
   ]
  },
  {
   "cell_type": "code",
   "execution_count": 7,
   "metadata": {},
   "outputs": [
    {
     "data": {
      "text/plain": [
       "defaultdict(int, {1: 23, 0: 20, 2: 24})"
      ]
     },
     "execution_count": 7,
     "metadata": {},
     "output_type": "execute_result"
    }
   ],
   "source": [
    "topicTermCount"
   ]
  },
  {
   "cell_type": "code",
   "execution_count": 8,
   "metadata": {},
   "outputs": [],
   "source": [
    "def likelihoodAlpha(i, k):\n",
    "    return docTopicDistribution[i][k] + alpha"
   ]
  },
  {
   "cell_type": "code",
   "execution_count": 9,
   "metadata": {},
   "outputs": [],
   "source": [
    "def likelihoodBeta(k, term):\n",
    "    return (topicTermDistribution[k][term] + beta) / (topicTermCount[k] + (beta *V))"
   ]
  },
  {
   "cell_type": "code",
   "execution_count": 10,
   "metadata": {},
   "outputs": [],
   "source": [
    "from random import random\n",
    "\n",
    "def collapsedGibbsSampling(i, term):\n",
    "    sampling = list()\n",
    "    for k in range(K):\n",
    "        # k번째 토픽에 대한 확률\n",
    "        sampling.append(likelihoodAlpha(i, k) * likelihoodBeta(k, term))\n",
    "        \n",
    "    threshold = sum(sampling) * random()    # 0~1 사이의 값 (sample 들 중에서 위치 선택) => 적당한 k번째를 고르기 위한 샘플링\n",
    "    \n",
    "    for topicNo, topicProbability in enumerate(sampling):\n",
    "        threshold -= topicProbability\n",
    "        \n",
    "        if threshold <= 0.0:\n",
    "            return topicNo\n",
    "    "
   ]
  },
  {
   "cell_type": "code",
   "execution_count": 11,
   "metadata": {},
   "outputs": [],
   "source": [
    "# 1000번 이터레이션하는부분 추가\n",
    "\n",
    "iterationNumber = 1000\n",
    "\n",
    "for _ in range(iterationNumber):\n",
    "    for i, termList in enumerate(collection): # i번째 문서를 뽑음\n",
    "        for j, term in enumerate(termList):\n",
    "            topic = termTopicAssignmentMatrix[i][j]\n",
    "            \n",
    "            topicTermCount[topic] -= 1\n",
    "            docTopicDistribution[i][topic] -= 1\n",
    "            topicTermDistribution[topic][term] -= 1\n",
    "            \n",
    "            topic = collapsedGibbsSampling(i, term)\n",
    "            \n",
    "            \n",
    "            # 총 100개의 단어가 나왔다면 아래 셋의 합은 100이 되어야 함. \n",
    "            topicTermCount[topic] += 1 # 2번식의 분모에 필요. (3짜리 list에 넣어줌)\n",
    "            docTopicDistribution[i][topic] += 1 # 1번식때문에 필요(어느 doc의 몇번째 topic에 몇개만큼 단어가 할당되어 있는지)\n",
    "            topicTermDistribution[topic][term] += 1 \n",
    "\n",
    "            termTopicAssignmentMatrix[i][j] = topic # i번째 문서에서 나온 n(여기선 j)번째 단어에 대한 topic assignment. 즉 수식의 Z와 같음. (어느 문서에 나온 특정 위치를 골라내기 위해 사용.)"
   ]
  },
  {
   "cell_type": "code",
   "execution_count": 12,
   "metadata": {},
   "outputs": [
    {
     "data": {
      "text/plain": [
       "defaultdict(<function __main__.<lambda>()>,\n",
       "            {0: defaultdict(int, {1: 7, 0: 0, 2: 0}),\n",
       "             1: defaultdict(int, {1: 5, 2: 0, 0: 0}),\n",
       "             2: defaultdict(int, {2: 3, 0: 3, 1: 0}),\n",
       "             3: defaultdict(int, {1: 0, 2: 3, 0: 2}),\n",
       "             4: defaultdict(int, {1: 0, 0: 4, 2: 0}),\n",
       "             5: defaultdict(int, {2: 3, 1: 1, 0: 2}),\n",
       "             6: defaultdict(int, {1: 0, 2: 4, 0: 0}),\n",
       "             7: defaultdict(int, {0: 4, 2: 0, 1: 0}),\n",
       "             8: defaultdict(int, {2: 0, 1: 1, 0: 3}),\n",
       "             9: defaultdict(int, {0: 0, 2: 0, 1: 4}),\n",
       "             10: defaultdict(int, {2: 3, 0: 0, 1: 0}),\n",
       "             11: defaultdict(int, {0: 3, 2: 1, 1: 0}),\n",
       "             12: defaultdict(int, {0: 0, 2: 3, 1: 0}),\n",
       "             13: defaultdict(int, {2: 0, 0: 0, 1: 5}),\n",
       "             14: defaultdict(int, {0: 3, 2: 0, 1: 0})})"
      ]
     },
     "execution_count": 12,
     "metadata": {},
     "output_type": "execute_result"
    }
   ],
   "source": [
    "docTopicDistribution"
   ]
  },
  {
   "cell_type": "code",
   "execution_count": 13,
   "metadata": {},
   "outputs": [
    {
     "data": {
      "text/plain": [
       "defaultdict(<function __main__.<lambda>()>,\n",
       "            {1: defaultdict(int,\n",
       "                         {'Hadoop': 2,\n",
       "                          'Big Data': 3,\n",
       "                          'Java': 3,\n",
       "                          'Storm': 1,\n",
       "                          'Cassandra': 2,\n",
       "                          'NoSQL': 1,\n",
       "                          'MongoDB': 2,\n",
       "                          'scipy': 0,\n",
       "                          'R': 0,\n",
       "                          'machine learning': 0,\n",
       "                          'programming languages': 0,\n",
       "                          'statistics': 0,\n",
       "                          'probability': 0,\n",
       "                          'Mahout': 0,\n",
       "                          'neural networks': 0,\n",
       "                          'deep learning': 0,\n",
       "                          'artificial intelligence': 0,\n",
       "                          'Python': 0,\n",
       "                          'HBase': 3,\n",
       "                          'Spark': 1,\n",
       "                          'Postgres': 2,\n",
       "                          'scikit-learn': 0,\n",
       "                          'numpy': 0,\n",
       "                          'statsmodels': 0,\n",
       "                          'pandas': 0,\n",
       "                          'regression': 0,\n",
       "                          'decision trees': 0,\n",
       "                          'libsvm': 0,\n",
       "                          'C++': 0,\n",
       "                          'Haskell': 0,\n",
       "                          'mathematics': 0,\n",
       "                          'theory': 0,\n",
       "                          'MapReduce': 1,\n",
       "                          'databases': 1,\n",
       "                          'MySQL': 1,\n",
       "                          'support vector machines': 0}),\n",
       "             0: defaultdict(int,\n",
       "                         {'HBase': 0,\n",
       "                          'Postgres': 0,\n",
       "                          'scikit-learn': 2,\n",
       "                          'numpy': 1,\n",
       "                          'statsmodels': 0,\n",
       "                          'probability': 0,\n",
       "                          'regression': 3,\n",
       "                          'libsvm': 2,\n",
       "                          'Haskell': 1,\n",
       "                          'machine learning': 2,\n",
       "                          'Big Data': 0,\n",
       "                          'Hadoop': 0,\n",
       "                          'Java': 0,\n",
       "                          'C++': 2,\n",
       "                          'pandas': 0,\n",
       "                          'MongoDB': 0,\n",
       "                          'Spark': 0,\n",
       "                          'Storm': 0,\n",
       "                          'Cassandra': 0,\n",
       "                          'NoSQL': 0,\n",
       "                          'Python': 2,\n",
       "                          'scipy': 0,\n",
       "                          'R': 0,\n",
       "                          'statistics': 0,\n",
       "                          'decision trees': 1,\n",
       "                          'programming languages': 0,\n",
       "                          'mathematics': 0,\n",
       "                          'theory': 0,\n",
       "                          'Mahout': 1,\n",
       "                          'neural networks': 2,\n",
       "                          'deep learning': 2,\n",
       "                          'artificial intelligence': 2,\n",
       "                          'MapReduce': 0,\n",
       "                          'databases': 0,\n",
       "                          'MySQL': 0,\n",
       "                          'support vector machines': 1}),\n",
       "             2: defaultdict(int,\n",
       "                         {'Spark': 0,\n",
       "                          'HBase': 0,\n",
       "                          'Python': 2,\n",
       "                          'pandas': 2,\n",
       "                          'statistics': 3,\n",
       "                          'regression': 0,\n",
       "                          'decision trees': 0,\n",
       "                          'C++': 0,\n",
       "                          'mathematics': 1,\n",
       "                          'theory': 1,\n",
       "                          'scikit-learn': 0,\n",
       "                          'neural networks': 0,\n",
       "                          'artificial intelligence': 0,\n",
       "                          'MapReduce': 0,\n",
       "                          'R': 4,\n",
       "                          'statsmodels': 2,\n",
       "                          'deep learning': 0,\n",
       "                          'databases': 0,\n",
       "                          'MySQL': 0,\n",
       "                          'support vector machines': 0,\n",
       "                          'Hadoop': 0,\n",
       "                          'Big Data': 0,\n",
       "                          'Java': 0,\n",
       "                          'Storm': 0,\n",
       "                          'Cassandra': 0,\n",
       "                          'NoSQL': 0,\n",
       "                          'MongoDB': 0,\n",
       "                          'Postgres': 0,\n",
       "                          'scipy': 1,\n",
       "                          'numpy': 0,\n",
       "                          'probability': 3,\n",
       "                          'machine learning': 0,\n",
       "                          'libsvm': 0,\n",
       "                          'Haskell': 0,\n",
       "                          'programming languages': 1,\n",
       "                          'Mahout': 0})})"
      ]
     },
     "execution_count": 13,
     "metadata": {},
     "output_type": "execute_result"
    }
   ],
   "source": [
    "topicTermDistribution"
   ]
  },
  {
   "cell_type": "code",
   "execution_count": null,
   "metadata": {},
   "outputs": [],
   "source": []
  },
  {
   "cell_type": "code",
   "execution_count": null,
   "metadata": {},
   "outputs": [],
   "source": []
  },
  {
   "cell_type": "code",
   "execution_count": null,
   "metadata": {},
   "outputs": [],
   "source": []
  },
  {
   "cell_type": "code",
   "execution_count": null,
   "metadata": {},
   "outputs": [],
   "source": []
  },
  {
   "cell_type": "code",
   "execution_count": null,
   "metadata": {},
   "outputs": [],
   "source": []
  },
  {
   "cell_type": "code",
   "execution_count": null,
   "metadata": {},
   "outputs": [],
   "source": []
  },
  {
   "cell_type": "code",
   "execution_count": null,
   "metadata": {},
   "outputs": [],
   "source": []
  },
  {
   "cell_type": "code",
   "execution_count": null,
   "metadata": {},
   "outputs": [],
   "source": []
  }
 ],
 "metadata": {
  "kernelspec": {
   "display_name": "Python 3",
   "language": "python",
   "name": "python3"
  },
  "language_info": {
   "codemirror_mode": {
    "name": "ipython",
    "version": 3
   },
   "file_extension": ".py",
   "mimetype": "text/x-python",
   "name": "python",
   "nbconvert_exporter": "python",
   "pygments_lexer": "ipython3",
   "version": "3.7.1"
  }
 },
 "nbformat": 4,
 "nbformat_minor": 2
}

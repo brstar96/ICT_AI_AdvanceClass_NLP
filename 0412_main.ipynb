{
 "cells": [
  {
   "cell_type": "code",
   "execution_count": 22,
   "metadata": {},
   "outputs": [],
   "source": [
    "documents = [\n",
    "    'This little kitty came to play when I was eating at a restaurant.',\n",
    "    'Merley has the best squooshy kitten belly.',\n",
    "    'Google Translate app is incredible.',\n",
    "    'If you open 100 tab in google you get a smiley face.',\n",
    "    'Best cat photo I\"ve ever taken.',\n",
    "    'Climbing ninja cat.',\n",
    "    'Impressed with google map feedback.',\n",
    "    'Key promoter extension for Google Chrome.'    \n",
    "]"
   ]
  },
  {
   "cell_type": "code",
   "execution_count": 23,
   "metadata": {},
   "outputs": [],
   "source": [
    "from nltk.tokenize import word_tokenize\n",
    "from nltk.corpus import stopwords\n",
    "from string import punctuation\n",
    "from collections import defaultdict\n",
    "from math import log\n",
    "import re\n",
    "\n",
    "# DTM = document-term-freq ...\n",
    "DTM = defaultdict(lambda: defaultdict(int))\n",
    "# TDM = term-document-freq ...\n",
    "TDM = defaultdict(lambda: defaultdict(int))\n",
    "# TWM = term-document-w(tf-idf) ...\n",
    "TWM = defaultdict(lambda: defaultdict(float))\n",
    "\n",
    "stopList = stopwords.words('english')\n",
    "punPattern = re.compile(r'[{0}]'.format(re.escape(punctuation)))\n",
    "\n",
    "for i, d in enumerate(documents): # Collection\n",
    "    for t in word_tokenize(d.lower()): # 소문자, 구두점 분리 => 단어를 추출\n",
    "        if t not in stopList and not punPattern.match(t):\n",
    "            DTM[i][t] += 1\n",
    "            \n",
    "for i, termList in DTM.items():\n",
    "    for t, f in termList.items():\n",
    "        TDM[t][i] = f\n",
    "        \n",
    "V = len(TDM.keys())\n",
    "N = len(DTM.keys())\n",
    "\n",
    "# TWM => TF-IDF (freq/max)*(logN/df)\n",
    "for t, docList in TDM.items():\n",
    "    df = len(docList)\n",
    "    for d, f in docList.items():\n",
    "        maxtf = max(DTM[d].values())\n",
    "        TWM[t][d] = (f/maxtf)*log(N/df)"
   ]
  },
  {
   "cell_type": "code",
   "execution_count": 24,
   "metadata": {},
   "outputs": [],
   "source": [
    "K = 2\n",
    "\n",
    "cluster = list()\n",
    "docVector = list(list(0.0 for _ in range(V)) for _ in range(N))\n",
    "\n",
    "# 행 : 문서index\n",
    "# 열 : 단어index\n",
    "\n",
    "for i in range(N):\n",
    "    for j, t in enumerate(TDM.keys()):\n",
    "        docVector[i][j] = TWM[t][i]"
   ]
  },
  {
   "cell_type": "code",
   "execution_count": 25,
   "metadata": {},
   "outputs": [],
   "source": [
    "from random import sample, randrange\n",
    "\n",
    "cluster = sample(docVector, K)"
   ]
  },
  {
   "cell_type": "code",
   "execution_count": 26,
   "metadata": {},
   "outputs": [
    {
     "data": {
      "text/plain": [
       "(2, 34)"
      ]
     },
     "execution_count": 26,
     "metadata": {},
     "output_type": "execute_result"
    }
   ],
   "source": [
    "len(cluster), len(cluster[0])"
   ]
  },
  {
   "cell_type": "code",
   "execution_count": 27,
   "metadata": {},
   "outputs": [],
   "source": [
    "from math import sqrt"
   ]
  },
  {
   "cell_type": "code",
   "execution_count": 28,
   "metadata": {},
   "outputs": [],
   "source": [
    "def distance(x1,x2):\n",
    "    _sum = 0.0\n",
    "    \n",
    "    for i in range(len(x1)):\n",
    "        _sum += (x1[i]-x2[i])**2\n",
    "        \n",
    "    return sqrt(_sum)"
   ]
  },
  {
   "cell_type": "code",
   "execution_count": 29,
   "metadata": {},
   "outputs": [],
   "source": [
    "def cosine(x1,x2):\n",
    "    _sum = 0.0\n",
    "    x1Length = 0.0\n",
    "    x2Length = 0.0\n",
    "    \n",
    "    for i in range(len(x1)):\n",
    "        _sum += x1[i]*x2[i]\n",
    "        x1Length += x1[i]**2\n",
    "        x2Length += x2[i]**2\n",
    "\n",
    "    return _sum/(sqrt(x1Length)*sqrt(x2Length))"
   ]
  },
  {
   "cell_type": "code",
   "execution_count": 30,
   "metadata": {},
   "outputs": [],
   "source": [
    "def expectation(point, cluster, cos=False):\n",
    "    distList = list()\n",
    "    metric = cosine if cos else distance\n",
    "    returnValue = max if cos else min   \n",
    "    \n",
    "    for i in range(len(cluster)):\n",
    "        distList.append(metric(point, cluster[i]))\n",
    "        \n",
    "    return distList.index(returnValue(distList))"
   ]
  },
  {
   "cell_type": "code",
   "execution_count": 31,
   "metadata": {},
   "outputs": [],
   "source": [
    "def maximiztion(data):\n",
    "    M = len(data)\n",
    "    _vector = list(0.0 for _ in range(len(data[0])))\n",
    "    \n",
    "    for i in range(len(data)):\n",
    "        for j in range(len(data[i])):\n",
    "            _vector[j] += data[i][j]\n",
    "        \n",
    "    return [_/M for _ in _vector]"
   ]
  },
  {
   "cell_type": "code",
   "execution_count": 32,
   "metadata": {},
   "outputs": [],
   "source": [
    "def SSE(data, centroid):\n",
    "    sse = 0.0\n",
    "    for point in data:\n",
    "        sse += distance(point, centroid)\n",
    "    return sse"
   ]
  },
  {
   "cell_type": "code",
   "execution_count": 33,
   "metadata": {},
   "outputs": [
    {
     "name": "stdout",
     "output_type": "stream",
     "text": [
      "34.85185845111509\n",
      "26.888779242867432\n",
      "26.888779242867432\n",
      "26.888779242867432\n",
      "26.888779242867432\n",
      "26.888779242867432\n",
      "26.888779242867432\n",
      "26.888779242867432\n",
      "26.888779242867432\n",
      "26.888779242867432\n"
     ]
    }
   ],
   "source": [
    "sseList = list()\n",
    "\n",
    "for _ in range(10):\n",
    "    rnk = list(list(0 for _ in range(K)) for _ in range(N))\n",
    "    \n",
    "    for i, d in enumerate(docVector):\n",
    "        c = expectation(d, cluster)\n",
    "        rnk[i][c] = 1\n",
    "        \n",
    "    sse = 0.0    \n",
    "        \n",
    "    for j, c in enumerate(cluster):\n",
    "        dataset = [docVector[i] for i in range(N) if rnk[i][j]]\n",
    "        sse += SSE(dataset, c)\n",
    "        cluster[j] = maximiztion(dataset)\n",
    "        \n",
    "    sseList.append(sse)\n",
    "    print(sse)"
   ]
  },
  {
   "cell_type": "code",
   "execution_count": 34,
   "metadata": {},
   "outputs": [
    {
     "data": {
      "image/png": "[encoded data removed]",
      "text/plain": [
       "<Figure size 432x288 with 1 Axes>"
      ]
     },
     "metadata": {
      "needs_background": "light"
     },
     "output_type": "display_data"
    }
   ],
   "source": [
    "import matplotlib.pyplot as plt\n",
    "\n",
    "plt.plot(range(1,11), sseList, 'r-')\n",
    "plt.show()"
   ]
  },
  {
   "cell_type": "code",
   "execution_count": 35,
   "metadata": {},
   "outputs": [],
   "source": [
    "clusterDataset = list()\n",
    "\n",
    "for j, c in enumerate(cluster):\n",
    "    dataset = [i for i in range(N) if rnk[i][j]]\n",
    "    clusterDataset.append(dataset)"
   ]
  },
  {
   "cell_type": "code",
   "execution_count": 36,
   "metadata": {},
   "outputs": [],
   "source": [
    "voca = list(TWM.keys())"
   ]
  },
  {
   "cell_type": "code",
   "execution_count": 37,
   "metadata": {},
   "outputs": [],
   "source": [
    "topic = list()\n",
    "\n",
    "for c in cluster:\n",
    "    wordList = defaultdict(float)\n",
    "    for i, w in enumerate(c):\n",
    "        wordList[voca[i]] = w\n",
    "        \n",
    "    topic.append(dict(sorted(wordList.items(), key=lambda x:x[1], reverse = True)[:5]))"
   ]
  },
  {
   "cell_type": "code",
   "execution_count": 39,
   "metadata": {},
   "outputs": [
    {
     "data": {
      "image/png": "[encoded data removed]",
      "text/plain": [
       "<PIL.Image.Image image mode=RGB size=400x200 at 0x1B6792A16D8>"
      ]
     },
     "execution_count": 39,
     "metadata": {},
     "output_type": "execute_result"
    }
   ],
   "source": [
    "from wordcloud import WordCloud\n",
    "\n",
    "path = \"C:/windows/fonts/HMKMRHD.ttf\"\n",
    "wc = WordCloud(font_path=path, max_words=30, background_color='white')\n",
    "wc.generate_from_frequencies(topic[0])\n",
    "wc.to_image()"
   ]
  },
  {
   "cell_type": "code",
   "execution_count": null,
   "metadata": {},
   "outputs": [],
   "source": []
  },
  {
   "cell_type": "code",
   "execution_count": null,
   "metadata": {},
   "outputs": [],
   "source": []
  },
  {
   "cell_type": "code",
   "execution_count": null,
   "metadata": {},
   "outputs": [],
   "source": []
  },
  {
   "cell_type": "code",
   "execution_count": null,
   "metadata": {},
   "outputs": [],
   "source": []
  }
 ],
 "metadata": {
  "kernelspec": {
   "display_name": "Python 3",
   "language": "python",
   "name": "python3"
  },
  "language_info": {
   "codemirror_mode": {
    "name": "ipython",
    "version": 3
   },
   "file_extension": ".py",
   "mimetype": "text/x-python",
   "name": "python",
   "nbconvert_exporter": "python",
   "pygments_lexer": "ipython3",
   "version": "3.7.1"
  }
 },
 "nbformat": 4,
 "nbformat_minor": 2
}

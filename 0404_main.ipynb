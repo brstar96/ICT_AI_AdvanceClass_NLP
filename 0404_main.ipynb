{
 "cells": [
  {
   "cell_type": "markdown",
   "metadata": {},
   "source": [
    "## 나이브 베이즈 모델로 분류하기\n",
    "- 기존까지는 휴리스틱한 방식으로 weight를 더 주고 벡터 공간에 임베딩한 후 cosine 유사도를 통해 분류를 수행했다.\n",
    "- 본 노트북에서는 빈도를 나이브 베이즈 모델로 분류를 수행해 본다"
   ]
  },
  {
   "cell_type": "code",
   "execution_count": 50,
   "metadata": {},
   "outputs": [],
   "source": [
    "trainingSet = [\n",
    "    (1, \"Chinese Beijing Chinese\", \"yes\"),\n",
    "    (2, \"Chinese Chinese Shanghi\", \"yes\"),\n",
    "    (3, \"Chinese Macao\", \"yes\"),\n",
    "    (4, \"Tokyo Japan Chinese\", \"no\")\n",
    "]\n",
    "\n",
    "testSet = [\n",
    "    (5, \"Chinese Tokyo Japan\") # 'Chinese'의 빈도에 따라 결과가 달라지게 된다. \n",
    "]"
   ]
  },
  {
   "cell_type": "code",
   "execution_count": 51,
   "metadata": {},
   "outputs": [],
   "source": [
    "trainingSetYes = [d for d in trainingSet if d[2] == \"yes\"]\n",
    "trainingSetNo = [d for d in trainingSet if d[2] == \"no\"]"
   ]
  },
  {
   "cell_type": "code",
   "execution_count": 52,
   "metadata": {},
   "outputs": [
    {
     "data": {
      "text/plain": [
       "([(1, 'Chinese Beijing Chinese', 'yes'),\n",
       "  (2, 'Chinese Chinese Shanghi', 'yes'),\n",
       "  (3, 'Chinese Macao', 'yes')],\n",
       " [(4, 'Tokyo Japan Chinese', 'no')])"
      ]
     },
     "execution_count": 52,
     "metadata": {},
     "output_type": "execute_result"
    }
   ],
   "source": [
    "trainingSetYes, trainingSetNo"
   ]
  },
  {
   "cell_type": "code",
   "execution_count": 53,
   "metadata": {},
   "outputs": [
    {
     "name": "stdout",
     "output_type": "stream",
     "text": [
      "0.75\n",
      "0.25\n"
     ]
    },
    {
     "data": {
      "text/plain": [
       "(None, None)"
      ]
     },
     "execution_count": 53,
     "metadata": {},
     "output_type": "execute_result"
    }
   ],
   "source": [
    "nYes = len(trainingSetYes)\n",
    "nNo = len(trainingSetNo)\n",
    "N = nYes + nNo\n",
    "\n",
    "priorYes = nYes / N # yes에 대한 prior\n",
    "priorNo = 1- priorYes\n",
    "print(priorYes), print(priorNo)"
   ]
  },
  {
   "cell_type": "markdown",
   "metadata": {},
   "source": [
    "## Trainset에 대한 확률 구하기"
   ]
  },
  {
   "cell_type": "code",
   "execution_count": 54,
   "metadata": {},
   "outputs": [],
   "source": [
    "from collections import defaultdict\n",
    "\n",
    "tokensYes = defaultdict(int)\n",
    "tokensNo = defaultdict(int)\n",
    "\n",
    "for d in trainingSetYes:\n",
    "    for t in d[1].lower().split(): # 단어가 하나씩 생김.\n",
    "        tokensYes[t] += 1\n",
    "        \n",
    "for d in trainingSetNo:\n",
    "    for t in d[1].lower().split(): # 단어가 하나씩 생김.\n",
    "        tokensNo[t] += 1\n",
    "        \n",
    "# lexicon 생성(set으로 중복 제거 후 list로 묶기)\n",
    "vocabulary = list(set(list(tokensYes.keys()) + list(tokensNo.keys())))"
   ]
  },
  {
   "cell_type": "code",
   "execution_count": 55,
   "metadata": {},
   "outputs": [
    {
     "name": "stdout",
     "output_type": "stream",
     "text": [
      "chinese\n",
      "Yes | log(5+1/8+6) = -0.4925\n",
      "No | log(1+1/3+6) = -0.9808\n",
      "beijing\n",
      "Yes | log(1+1/8+6) = -1.7918\n",
      "No | log(0+1/3+6) = -2.0794\n",
      "tokyo\n",
      "Yes | log(0+1/8+6) = -2.8904\n",
      "No | log(1+1/3+6) = -0.9808\n",
      "macao\n",
      "Yes | log(1+1/8+6) = -1.7918\n",
      "No | log(0+1/3+6) = -2.0794\n",
      "shanghi\n",
      "Yes | log(1+1/8+6) = -1.7918\n",
      "No | log(0+1/3+6) = -2.0794\n",
      "japan\n",
      "Yes | log(0+1/8+6) = -2.8904\n",
      "No | log(1+1/3+6) = -0.9808\n"
     ]
    }
   ],
   "source": [
    "# conditional probability 계산\n",
    "from math import log\n",
    "cpYes = defaultdict(float) # conditional probability이면서 Yes인 것들\n",
    "cpNo = defaultdict(float) # conditional probability이면서 Yes인 것들\n",
    "K = 0.5 # K를 통해 스무딩하는 방법\n",
    "B = len(vocabulary) # 스무딩\n",
    "sumYes = sum(tokensYes.values())\n",
    "sumNo = sum(tokensNo.values())\n",
    "\n",
    "for t in vocabulary:\n",
    "   # 특정 클래스 내 document에 속하는 단어들 중 몇번 나왔는가를 구한 후 MLE 추정\n",
    "   # 로그를 취함으로서 덧셈 형태로 바뀌므로 +=를 함. (왜 log를 씌우는지는 원노트 참고)\n",
    "#     스무딩 방법 1)\n",
    "#     cpYes[t] += log((tokensYes[t] + 1) / (sumYes + B)) # 로그를 씌운 확률값\n",
    "#     cpNo[t] += log((tokensNo[t] + 1) / (sumNo + B))\n",
    "#     스무딩 방법 2)\n",
    "    cpYes[t] += log((tokensYes[t] + K) / (sumYes + K*2)) # 일반적으로 K를 통해 절반의 확률을 유도한다. \n",
    "    cpNo[t] += log((tokensNo[t] + K) / (sumNo + K*2))\n",
    "\n",
    "    print(t)\n",
    "    print(\"Yes | log({0}+1/{1}+{2}) = {3:.4f}\".format(tokensYes[t], sumYes, B, cpYes[t]))\n",
    "    print(\"No | log({0}+1/{1}+{2}) = {3:.4f}\".format(tokensNo[t], sumNo, B, cpNo[t]))\n",
    "    "
   ]
  },
  {
   "cell_type": "markdown",
   "metadata": {},
   "source": [
    "## Testset에 대한 확률 구하기"
   ]
  },
  {
   "cell_type": "code",
   "execution_count": 57,
   "metadata": {},
   "outputs": [
    {
     "name": "stdout",
     "output_type": "stream",
     "text": [
      "No\n",
      "0.001414609053497941 0.01318359375\n"
     ]
    }
   ],
   "source": [
    "from math import exp\n",
    "\n",
    "for d in testSet:\n",
    "    scoreYes = log(priorYes)\n",
    "    scoreNo = log(priorNo)\n",
    "    \n",
    "    for t in d[1].lower().split(): # 단어가 하나씩 생김.\n",
    "        scoreYes += cpYes[t] \n",
    "        scoreNo += cpNo[t]\n",
    "    \n",
    "    # 분류\n",
    "    if scoreYes > scoreNo:\n",
    "        print(\"Yes\")\n",
    "    else:\n",
    "        print(\"No\")\n",
    "        \n",
    "    print(exp(scoreYes), exp(scoreNo))"
   ]
  },
  {
   "cell_type": "code",
   "execution_count": null,
   "metadata": {},
   "outputs": [],
   "source": []
  },
  {
   "cell_type": "code",
   "execution_count": null,
   "metadata": {},
   "outputs": [],
   "source": []
  }
 ],
 "metadata": {
  "kernelspec": {
   "display_name": "Python 3",
   "language": "python",
   "name": "python3"
  },
  "language_info": {
   "codemirror_mode": {
    "name": "ipython",
    "version": 3
   },
   "file_extension": ".py",
   "mimetype": "text/x-python",
   "name": "python",
   "nbconvert_exporter": "python",
   "pygments_lexer": "ipython3",
   "version": "3.7.1"
  }
 },
 "nbformat": 4,
 "nbformat_minor": 2
}

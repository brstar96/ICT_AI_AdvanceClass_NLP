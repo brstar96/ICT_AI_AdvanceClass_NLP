{
 "cells": [
  {
   "cell_type": "code",
   "execution_count": 1,
   "metadata": {},
   "outputs": [
    {
     "name": "stdout",
     "output_type": "stream",
     "text": [
      "Tensor(\"add:0\", shape=(), dtype=float32)\n17.0\n"
     ]
    }
   ],
   "source": [
    "import tensorflow as tf\n",
    "# 텐서플로 기초\n",
    "\n",
    "# 그래프 생성(세션을 돌리기 전까지는 그래프만 그리고 있음.)\n",
    "a = tf.constant(3.0)\n",
    "b = tf.constant(4.0)\n",
    "c = tf.constant(5.0)\n",
    "d = a * b + c\n",
    "print (d)\n",
    "\n",
    "# 그래프 실행 (세션을 만들어야 그래프 실행 가능.)\n",
    "sess = tf.Session() # 세션을 만들기 위한 빈 세션 객체 생성\n",
    "result = sess.run(d) # run에 돌릴 노드 d를 넣어 주어야 함. \n",
    "print (result)\n"
   ]
  },
  {
   "cell_type": "code",
   "execution_count": 13,
   "metadata": {
    "collapsed": true
   },
   "outputs": [
    {
     "name": "stdout",
     "output_type": "stream",
     "text": [
      "[ 6.9999847 10.999451  10.999451  12.999185 ]\n"
     ]
    }
   ],
   "source": [
    "# 간단한 Linear regression\n",
    "\n",
    "# Variable : 계속해서 변하는 변수.\n",
    "W = tf.Variable(tf.random_normal(shape=[1], name='w')) # Weight(shape은 축은 의미, name은 노드를 그릴때 노드 및 엣지의 이름을 의미)\n",
    "b = tf.Variable(tf.random_normal(shape=[1], name='b')) # bias\n",
    "\n",
    "# placeholder : 변수들의 자리를 잡아 놓는 역할. \n",
    "x  = tf.placeholder(tf.float32)\n",
    "\n",
    "pred = W * x + b # 모델이 추론한 결과를 얻기 위한 객체\n",
    "\n",
    "y = tf.placeholder(tf.float32)\n",
    "loss = tf.reduce_mean(tf.square(pred - y))\n",
    "\n",
    "optimizer = tf.train.GradientDescentOptimizer(0.01)\n",
    "train_step = optimizer.minimize(loss)\n",
    "\n",
    "# 간이 학습 데이터 만들기. y = 2x + 1의 관계를 갖는 데이터들로 선형회귀를 수행할 예정\n",
    "x_train = [1,2,3,4]\n",
    "y_train = [3,5,7,9]\n",
    "\n",
    "# 변수(W, b) 초기화\n",
    "sess = tf.Session()\n",
    "result = sess.run(tf.global_variables_initializer())\n",
    "\n",
    "# 학습 진행\n",
    "# 5 step : [4.512574  6.4994907 6.4994907 7.492949 ], \n",
    "# 2000 setp : [ 7.0000477 11.001617  11.001617  13.002401 ]\n",
    "for i in range(2000): \n",
    "    sess.run(train_step, feed_dict={x: x_train, y: y_train}) # feed_dict : 값을 넣어주는 함수.\n",
    "\n",
    "# 간이 테스트 데이터 만들기\n",
    "x_test = [3, 5, 5, 6]\n",
    "\n",
    "# 예측 결과 출력\n",
    "print (sess.run(pred, feed_dict={x: x_test}))"
   ]
  },
  {
   "cell_type": "code",
   "execution_count": null,
   "metadata": {},
   "outputs": [],
   "source": []
  }
 ],
 "metadata": {
  "kernelspec": {
   "display_name": "Python 2",
   "language": "python",
   "name": "python2"
  },
  "language_info": {
   "codemirror_mode": {
    "name": "ipython",
    "version": 2
   },
   "file_extension": ".py",
   "mimetype": "text/x-python",
   "name": "python",
   "nbconvert_exporter": "python",
   "pygments_lexer": "ipython2",
   "version": "2.7.6"
  }
 },
 "nbformat": 4,
 "nbformat_minor": 0
}

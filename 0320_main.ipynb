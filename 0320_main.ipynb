{
 "cells": [
  {
   "cell_type": "code",
   "execution_count": 3,
   "metadata": {
    "collapsed": false
   },
   "outputs": [],
   "source": [
    "# 이 코드에서는 형태소 분석을 수행해 봅니다. (nltk.pos_tag, Hannanum, Kkma, Komoran, Okt)\n",
    "\n",
    "from matplotlib import font_manager, rc\n",
    "\n",
    "path = \"C:/windows/fonts/HMKMRHD.ttf\" # matplot의 폰트를 지정하기 위한 경로 설정\n",
    "font = font_manager.FontProperties(fname=path).get_name() # 폰트매니저 객체 생성\n",
    "rc(\"font\", family=font) # 폰트 변경"
   ]
  },
  {
   "cell_type": "code",
   "execution_count": 4,
   "metadata": {
    "collapsed": false
   },
   "outputs": [
    {
     "name": "stdout",
     "output_type": "stream",
     "text": [
      ".\n"
     ]
    },
    {
     "data": {
      "text/plain": [
       "['she', 'sells', 'seashells', 'on', 'the', 'seashore']"
      ]
     },
     "execution_count": 4,
     "metadata": {},
     "output_type": "execute_result"
    }
   ],
   "source": [
    "import re\n",
    "from string import punctuation\n",
    "from nltk.tokenize import word_tokenize\n",
    "\n",
    "sentence = 'She sells seashells on the seashore.'\n",
    "tokens = word_tokenize(sentence)\n",
    "\n",
    "# 구두점 제거를 위한 패턴 정의\n",
    "pattern = re.compile(r'[{0}]'.format(re.escape(punctuation)))\n",
    "\n",
    "result = []\n",
    "for token in tokens:\n",
    "    if pattern.search(token): # 패턴에 맞는 문자를 공백으로 치환\n",
    "        print(token)\n",
    "    else:\n",
    "        result.append(token.lower())\n",
    "result"
   ]
  },
  {
   "cell_type": "code",
   "execution_count": 6,
   "metadata": {},
   "outputs": [
    {
     "name": "stdout",
     "output_type": "stream",
     "text": [
      "[('she', 'PRP'), ('sells', 'VBZ'), ('seashells', 'NNS'), ('on', 'IN'), ('the', 'DT'), ('seashore', 'NN')]\nVBZ: verb, present tense, 3rd person singular\n    bases reconstructs marks mixes displeases seals carps weaves snatches\n    slumps stretches authorizes smolders pictures emerges stockpiles\n    seduces fizzes uses bolsters slaps speaks pleads ...\nNone\n"
     ]
    }
   ],
   "source": [
    "from nltk import pos_tag # 형태소 분석모듈\n",
    "from nltk.help import brown_tagset, upenn_tagset\n",
    "# nltk.download('tagsets') # 1회만 실행\n",
    "\n",
    "print(pos_tag(result)) # 형태소 분석결과 출력\n",
    "print(upenn_tagset('VBZ')) # 형태소 태그에 대한 상세설명 출력\n",
    "# print(upenn_tagset(\"N.*?\"))\n",
    "# print(brown_tagset())"
   ]
  },
  {
   "cell_type": "code",
   "execution_count": 7,
   "metadata": {},
   "outputs": [
    {
     "name": "stdout",
     "output_type": "stream",
     "text": [
      "she\nsells\nseashells\nSkipped :  on\nSkipped :  the\nseashore\n"
     ]
    },
    {
     "data": {
      "text/plain": [
       "['she', 'sells', 'seashells', 'seashore']"
      ]
     },
     "execution_count": 7,
     "metadata": {},
     "output_type": "execute_result"
    }
   ],
   "source": [
    "from nltk import pos_tag\n",
    "tags = []\n",
    "\n",
    "for term in pos_tag(result): # on, the와 같은 IT, DT 걸러내기\n",
    "    if term[1] in ['IN', 'DT']:\n",
    "        print('Skipped : ', term[0])\n",
    "    else:\n",
    "        print(term[0])\n",
    "        tags.append(term[0])\n",
    "        \n",
    "tags"
   ]
  },
  {
   "cell_type": "code",
   "execution_count": 8,
   "metadata": {},
   "outputs": [
    {
     "name": "stdout",
     "output_type": "stream",
     "text": [
      "[('she', 1), ('sells', 1), ('seashells', 1), ('seashore', 1)]\n"
     ]
    }
   ],
   "source": [
    "from nltk import Text\n",
    "\n",
    "textObj = Text(tags) # 형태소 태깅\n",
    "print(textObj.vocab().most_common()) # 형태소가 사용된 횟수 출력"
   ]
  },
  {
   "cell_type": "code",
   "execution_count": 9,
   "metadata": {},
   "outputs": [
    {
     "data": {
      "text/plain": [
       "['the', 'little', 'yellow', 'dog', 'barked', 'at', 'the', 'persian', 'cat']"
      ]
     },
     "execution_count": 9,
     "metadata": {},
     "output_type": "execute_result"
    }
   ],
   "source": [
    "sentence = 'The little yellow dog barked at the Persian Cat'\n",
    "\n",
    "tokens = word_tokenize(sentence)\n",
    "\n",
    "pattern = re.compile(r'[{0}]'.format(re.escape(punctuation)))\n",
    "\n",
    "result = []\n",
    "for token in tokens:\n",
    "    if pattern.search(token):\n",
    "        print(token)\n",
    "    else:\n",
    "        result.append(token.lower())\n",
    "result"
   ]
  },
  {
   "cell_type": "code",
   "execution_count": 10,
   "metadata": {},
   "outputs": [
    {
     "name": "stdout",
     "output_type": "stream",
     "text": [
      "Skipped :  the\nlittle\nyellow\ndog\nbarked\nSkipped :  at\nSkipped :  the\npersian\ncat\n"
     ]
    },
    {
     "data": {
      "text/plain": [
       "['little', 'yellow', 'dog', 'barked', 'persian', 'cat']"
      ]
     },
     "execution_count": 10,
     "metadata": {},
     "output_type": "execute_result"
    }
   ],
   "source": [
    "tags = []\n",
    "\n",
    "for term in pos_tag(result):\n",
    "    if term[1] in ['IN', 'DT']:\n",
    "        print('Skipped : ', term[0])\n",
    "    else:\n",
    "        print(term[0])\n",
    "        tags.append(term[0])\n",
    "        \n",
    "tags"
   ]
  },
  {
   "cell_type": "code",
   "execution_count": 11,
   "metadata": {},
   "outputs": [
    {
     "data": {
      "text/plain": [
       "['the', 'little', 'yellow', 'dog', 'barked', 'at', 'the', 'persian', 'cat']"
      ]
     },
     "execution_count": 11,
     "metadata": {},
     "output_type": "execute_result"
    }
   ],
   "source": [
    "# 언태그도 수행할 수 있음.\n",
    "from nltk.tag import untag\n",
    "\n",
    "tagged = pos_tag(result)\n",
    "untag(tagged)\n",
    "\n",
    "[tag[0] for tag in tagged]"
   ]
  },
  {
   "cell_type": "code",
   "execution_count": 12,
   "metadata": {},
   "outputs": [
    {
     "data": {
      "text/plain": [
       "([('the', 'DT'),\n  ('little', 'JJ'),\n  ('yellow', 'JJ'),\n  ('dog', 'NN'),\n  ('barked', 'VBD'),\n  ('at', 'IN'),\n  ('the', 'DT'),\n  ('persian', 'JJ'),\n  ('cat', 'NN')],\n ['the/DT',\n  'little/JJ',\n  'yellow/JJ',\n  'dog/NN',\n  'barked/VBD',\n  'at/IN',\n  'the/DT',\n  'persian/JJ',\n  'cat/NN'])"
      ]
     },
     "execution_count": 12,
     "metadata": {},
     "output_type": "execute_result"
    }
   ],
   "source": [
    "tagged, ['/'.join(tag) for tag in tagged]"
   ]
  },
  {
   "cell_type": "code",
   "execution_count": 13,
   "metadata": {},
   "outputs": [
    {
     "name": "stdout",
     "output_type": "stream",
     "text": [
      "9\n0.2222222222222222\n"
     ]
    }
   ],
   "source": [
    "from nltk import Text\n",
    "\n",
    "# FreqDist 클래스는 단어를 Key로, 출현빈도를 Value로 갖는 사전 자료형과 유사한 형태 \n",
    "textObj = Text(tagged) # 형태소 분석 수행\n",
    "print(textObj.vocab().N()) # 전체 단어의 수 \n",
    "print(textObj.vocab().freq(('the','DT'))) # 출현 확률 계산(key = the, value = DT?)"
   ]
  },
  {
   "cell_type": "code",
   "execution_count": 14,
   "metadata": {},
   "outputs": [
    {
     "name": "stdout",
     "output_type": "stream",
     "text": [
      "Skipped :  ('the', 'DT')\n"
     ]
    }
   ],
   "source": [
    "for key in textObj.vocab().keys():\n",
    "    if textObj.vocab().freq(key) > 0.2: # 확률(빈도)이 0.2보다 큰 FreqDist 객체에 대해서 수행 \n",
    "        print('Skipped : ', key)"
   ]
  },
  {
   "cell_type": "code",
   "execution_count": 15,
   "metadata": {},
   "outputs": [
    {
     "data": {
      "text/plain": [
       "(FreqDist({('the', 'DT'): 2}), 2)"
      ]
     },
     "execution_count": 15,
     "metadata": {},
     "output_type": "execute_result"
    }
   ],
   "source": [
    "from nltk.probability import FreqDist\n",
    "from collections import defaultdict\n",
    "\n",
    "taggedTerms = FreqDist()\n",
    "# taggedTerms = defaultdict(int)\n",
    "# key = tuple(단어, 품사)\n",
    "for key in textObj.vocab().keys():\n",
    "    if key[1].startswith('DT'):\n",
    "        # key[1] in ['DT']\n",
    "        # re.search(r'DT.*)\n",
    "        taggedTerms[key] = textObj.vocab().get(key)\n",
    "        \n",
    "taggedTerms, taggedTerms.N()"
   ]
  },
  {
   "cell_type": "code",
   "execution_count": 16,
   "metadata": {},
   "outputs": [],
   "source": [
    "# gutenberg 말뭉치에 대해서 분석\n",
    "from nltk.corpus import gutenberg\n",
    "\n",
    "corpus = gutenberg.open(gutenberg.fileids()[0]).read()\n",
    "corpus = pattern.sub('',corpus)\n",
    "tokens = word_tokenize(corpus)\n",
    "tagged = pos_tag(tokens)\n",
    "\n",
    "wordList = [pair[0] for pair in tagged] # ??\n",
    "posList = [pair[1] for pair in tagged]"
   ]
  },
  {
   "cell_type": "code",
   "execution_count": 17,
   "metadata": {},
   "outputs": [],
   "source": [
    "freqTagged = FreqDist()\n",
    "for row in tagged: # tuple(단어, 품사) 형태로 저장된다. (key로 value 호출가능)\n",
    "    freqTagged[row] += 1\n",
    "    \n",
    "freqWord = FreqDist()\n",
    "for row in wordList: # 단어\n",
    "    freqWord[row] += 1\n",
    "    \n",
    "freqPos = FreqDist()\n",
    "for row in posList: # 품사\n",
    "    freqPos[row] += 1"
   ]
  },
  {
   "cell_type": "code",
   "execution_count": 18,
   "metadata": {},
   "outputs": [
    {
     "data": {
      "text/plain": [
       "([(('to', 'TO'), 5099),\n  (('the', 'DT'), 4822),\n  (('and', 'CC'), 4412),\n  (('of', 'IN'), 4264),\n  (('I', 'PRP'), 2968),\n  (('a', 'DT'), 2962),\n  (('was', 'VBD'), 2369),\n  (('not', 'RB'), 2227),\n  (('in', 'IN'), 2086),\n  (('it', 'PRP'), 2041)],\n [('to', 5099),\n  ('the', 4822),\n  ('and', 4412),\n  ('of', 4264),\n  ('I', 2968),\n  ('a', 2962),\n  ('was', 2369),\n  ('her', 2333),\n  ('not', 2227),\n  ('in', 2086)],\n [('NN', 18524),\n  ('IN', 17875),\n  ('PRP', 14866),\n  ('RB', 12479),\n  ('DT', 12276),\n  ('JJ', 10305),\n  ('NNP', 9863),\n  ('VB', 9022),\n  ('VBD', 8948),\n  ('CC', 6445)])"
      ]
     },
     "execution_count": 18,
     "metadata": {},
     "output_type": "execute_result"
    }
   ],
   "source": [
    "# 가장 많이 나온 단어들을 10개씩 출력\n",
    "freqTagged.most_common(10), freqWord.most_common(10), freqPos.most_common(10) "
   ]
  },
  {
   "cell_type": "code",
   "execution_count": 19,
   "metadata": {},
   "outputs": [
    {
     "data": {
      "text/plain": [
       "<Figure size 640x480 with 1 Axes>"
      ]
     },
     "execution_count": 0,
     "metadata": {},
     "output_type": "execute_result"
    }
   ],
   "source": [
    "# 빈도에 따라 단어(word, pos 쌍) 순위를 그래프로 출력\n",
    "import matplotlib.pyplot as plt\n",
    "\n",
    "x = range(1,51)\n",
    "y = [pair[1] for pair in freqTagged.most_common(50)]\n",
    "_y = [pair[1] for pair in freqWord.most_common(50)]\n",
    "\n",
    "_x = range(1,11)\n",
    "_yy = [pair[1] for pair in freqPos.most_common(10)]\n",
    "\n",
    "plt.plot(x, y, 'r-') # tuple(단어, 품사)\n",
    "plt.plot(x, _y, 'g-') # 단어\n",
    "plt.plot(_x, _yy, 'b-') # 품사\n",
    "plt.xlabel('단어(단어, 품사 쌍)의 순위')\n",
    "plt.ylabel('빈도')\n",
    "plt.show()"
   ]
  },
  {
   "cell_type": "markdown",
   "metadata": {},
   "source": [
    "## 다양한 한국어 형태소 4종류 사용해보기"
   ]
  },
  {
   "cell_type": "code",
   "execution_count": 20,
   "metadata": {},
   "outputs": [
    {
     "data": {
      "text/plain": [
       "[('내', 'N'),\n ('친구', 'N'),\n ('는', 'J'),\n ('잠', 'N'),\n ('을', 'J'),\n ('많', 'P'),\n ('이', 'X'),\n ('자', 'P'),\n ('ㄴ다', 'E'),\n ('.', 'S')]"
      ]
     },
     "execution_count": 20,
     "metadata": {},
     "output_type": "execute_result"
    }
   ],
   "source": [
    "# Hannanum 한국어 형태소 분석 및 품사 태깅 모듈\n",
    "from konlpy.tag import Hannanum \n",
    "\n",
    "sentence = '내 친구는 잠을 많이 잔다.'\n",
    "\n",
    "obj = Hannanum()\n",
    "obj.morphs(sentence)\n",
    "obj.pos(sentence)\n",
    "# obj.nouns(sentence)\n",
    "# obj.tagset"
   ]
  },
  {
   "cell_type": "code",
   "execution_count": 21,
   "metadata": {},
   "outputs": [
    {
     "data": {
      "text/plain": [
       "[('내', 'NP'),\n ('친구', 'NNG'),\n ('는', 'JX'),\n ('잠', 'NNG'),\n ('을', 'JKO'),\n ('많이', 'MAG'),\n ('자', 'VV'),\n ('ㄴ다', 'EFN'),\n ('.', 'SF')]"
      ]
     },
     "execution_count": 21,
     "metadata": {},
     "output_type": "execute_result"
    }
   ],
   "source": [
    "# 꼬꼬마 한국어 형태소 분석 및 품사 태깅 모듈(세종 말뭉치 2010년 배포판 기반)\n",
    "from konlpy.tag import Kkma\n",
    "\n",
    "sentence = '내 친구는 잠을 많이 잔다.'\n",
    "\n",
    "obj = Kkma()\n",
    "obj.morphs(sentence)\n",
    "obj.pos(sentence)\n",
    "# obj.nouns(sentence)\n",
    "# obj.tagset"
   ]
  },
  {
   "cell_type": "code",
   "execution_count": 22,
   "metadata": {},
   "outputs": [
    {
     "data": {
      "text/plain": [
       "[('내', 'NP'),\n ('우리', 'NP'),\n ('그', 'MM'),\n ('이', 'MM'),\n ('나', 'NP'),\n ('는', 'JX'),\n ('친구', 'NNG'),\n ('는', 'JX'),\n ('잠', 'NNG'),\n ('을', 'JKO'),\n ('많이', 'MAG'),\n ('자', 'VV'),\n ('ㄴ다', 'EF'),\n ('.', 'SF')]"
      ]
     },
     "execution_count": 22,
     "metadata": {},
     "output_type": "execute_result"
    }
   ],
   "source": [
    "# Komoran 한국어 형태소 분석 및 품사 태깅 모듈\n",
    "from konlpy.tag import Komoran\n",
    "\n",
    "sentence = '내 우리 그 이 나는 친구는 잠을 많이 잔다.'\n",
    "\n",
    "obj = Komoran()\n",
    "obj.morphs(sentence)\n",
    "obj.pos(sentence)\n",
    "# obj.nouns(sentence)\n",
    "# obj.tagset"
   ]
  },
  {
   "cell_type": "code",
   "execution_count": 23,
   "metadata": {},
   "outputs": [
    {
     "data": {
      "text/plain": [
       "[('내', 'Noun'),\n ('우리', 'Noun'),\n ('그', 'Noun'),\n ('이', 'Noun'),\n ('나', 'Noun'),\n ('는', 'Josa'),\n ('친구', 'Noun'),\n ('는', 'Josa'),\n ('잠', 'Noun'),\n ('을', 'Josa'),\n ('많이', 'Adverb'),\n ('잔다', 'Verb'),\n ('.', 'Punctuation')]"
      ]
     },
     "execution_count": 23,
     "metadata": {},
     "output_type": "execute_result"
    }
   ],
   "source": [
    "# Okt 한국어 형태소 분석 및 품사 태깅 모듈\n",
    "from konlpy.tag import Okt\n",
    "\n",
    "obj = Okt()\n",
    "obj.morphs(sentence)\n",
    "obj.pos(sentence)\n",
    "# obj.nouns(sentence)\n",
    "# obj.tagset"
   ]
  },
  {
   "cell_type": "code",
   "execution_count": 24,
   "metadata": {},
   "outputs": [],
   "source": [
    "# 한국어 말뭉치 다운로드 : https://ithub.korean.go.kr/user/corpus/corpusSearchManager.do\n",
    "\n",
    "# 성능 비교\n",
    "# 많이라는 부사로 테스트(품사 태깅)\n",
    "# Kkma, komoran, okt > Hannanum\n",
    "\n",
    "# 많이(부사) =? 품시태깅\n",
    "# Kkma, komoran, okt > Hannanum\n",
    "\n",
    "# 'ㅋㅋ'같은 신조어 처리\n",
    "# Okt, Hannanum > Kkma, Komoran\n",
    "\n",
    "# 명사 (불용어) - 신조어 무시\n",
    "# Komoran > Hannaum > Okt > Kkma"
   ]
  },
  {
   "cell_type": "markdown",
   "metadata": {},
   "source": [
    "## 꼬꼬마 형태소 분석기로 kolaw 말뭉치 분석해보기"
   ]
  },
  {
   "cell_type": "code",
   "execution_count": 25,
   "metadata": {},
   "outputs": [],
   "source": [
    "from konlpy.corpus import kolaw\n",
    "\n",
    "corpus = kolaw.open(kolaw.fileids()[0]).read() # 말뭉치 오픈\n",
    "tokens = Kkma().pos(corpus) # 꼬꼬마 형태소 분석기로 말뭉치 분석"
   ]
  },
  {
   "cell_type": "code",
   "execution_count": 26,
   "metadata": {},
   "outputs": [
    {
     "data": {
      "text/plain": [
       "(4640, 10053, ('대한민국', 'NNG'))"
      ]
     },
     "execution_count": 26,
     "metadata": {},
     "output_type": "execute_result"
    }
   ],
   "source": [
    "len(word_tokenize(corpus)), len(tokens), tokens[0] # 토큰화, 형태소분석결과의 길이를 출력 (테스트)"
   ]
  },
  {
   "cell_type": "code",
   "execution_count": 27,
   "metadata": {},
   "outputs": [],
   "source": [
    "rawList = FreqDist()\n",
    "pairList = FreqDist()\n",
    "wordList = FreqDist()\n",
    "posList = FreqDist()\n",
    "\n",
    "\n",
    "# 구두점, 부사류만 제거\n",
    "# filteredList = FreqDist()\n",
    "# for token in freqTagged: # tupple(단어, 품사)\n",
    "#     if token[1] not in [\"JKG\", \"JKO\", \"SP\"]: # 제거하고 싶은 품사 \n",
    "#         filteredList[token] = freqTagged[token]\n",
    "\n",
    "for term in word_tokenize(corpus):\n",
    "    rawList[term] += 1\n",
    "\n",
    "for pair in tokens:\n",
    "    pairList[pair] += 1\n",
    "    wordList[pair[0]] += 1\n",
    "    posList[pair[1]] += 1"
   ]
  },
  {
   "cell_type": "code",
   "execution_count": 28,
   "metadata": {},
   "outputs": [
    {
     "data": {
      "text/plain": [
       "(2023, 1294, 1247, 38)"
      ]
     },
     "execution_count": 28,
     "metadata": {},
     "output_type": "execute_result"
    }
   ],
   "source": [
    "len(rawList), len(pairList), len(wordList), len(posList)"
   ]
  },
  {
   "cell_type": "markdown",
   "metadata": {},
   "source": [
    "## 형태소분석 전/후 비교"
   ]
  },
  {
   "cell_type": "code",
   "execution_count": 29,
   "metadata": {},
   "outputs": [
    {
     "data": {
      "image/png": "[encoded data removed]",
      "text/plain": [
       "<Figure size 432x288 with 1 Axes>"
      ]
     },
     "metadata": {},
     "output_type": "display_data"
    }
   ],
   "source": [
    "# 형태소 분석 전의 그래프 출력해보기\n",
    "import math\n",
    "\n",
    "x = range(1,51)\n",
    "\n",
    "y = [pair[1] for pair in rawList.most_common(50)]\n",
    "yy = [pair[1] for pair in pairList.most_common(50)]\n",
    "yyy = [pair[1] for pair in wordList.most_common(50)]\n",
    "\n",
    "_y = [math.log10(_) for _ in y]\n",
    "_yy = [math.log10(_) for _ in yy]\n",
    "_yyy = [math.log10(_) for _ in yyy]\n",
    "\n",
    "# _x = range(1,11)\n",
    "# _yy = [pair[1] for pair in freqPos.most_common(10)]\n",
    "\n",
    "plt.plot(x, y, 'r-') \n",
    "plt.plot(x, yy, 'g-') \n",
    "plt.plot(x, yyy, 'b-') \n",
    "plt.xlabel('단어(단어, 품사 쌍)의 순위')\n",
    "plt.ylabel('빈도')\n",
    "plt.show()"
   ]
  },
  {
   "cell_type": "code",
   "execution_count": 30,
   "metadata": {
    "collapsed": false
   },
   "outputs": [
    {
     "data": {
      "image/png": "[encoded data removed]",
      "text/plain": [
       "<Figure size 432x288 with 1 Axes>"
      ]
     },
     "metadata": {},
     "output_type": "display_data"
    }
   ],
   "source": [
    "# 형태소 분석 후의 그래프 출력해보기\n",
    "x = range(1,51)\n",
    "\n",
    "y = [pair[1] for pair in rawList.most_common(50)]\n",
    "yy = [pair[1] for pair in pairList.most_common(50)]\n",
    "yyy = [pair[1] for pair in wordList.most_common(50)]\n",
    "\n",
    "_y = [math.log10(_) for _ in y]\n",
    "_yy = [math.log10(_) for _ in yy]\n",
    "_yyy = [math.log10(_) for _ in yyy]\n",
    "\n",
    "# _x = range(1,11)\n",
    "# _yy = [pair[1] for pair in freqPos.most_common(10)]\n",
    "\n",
    "plt.plot(x, _y, 'r-') \n",
    "plt.plot(x, _yy, 'g-') \n",
    "plt.plot(x, _yyy, 'b-') \n",
    "plt.xlabel('단어(단어, 품사 쌍)의 순위')\n",
    "plt.ylabel('빈도')\n",
    "plt.show()\n",
    "\n",
    "# 형태소 분석을 한 것이 좀 더 선형에 가까운 그래프를 보여준다. \n",
    "# 따라서 형태소분석을 거치고 난 결과값이 더 균등하므로 학습에 유리하다. "
   ]
  },
  {
   "cell_type": "code",
   "execution_count": 32,
   "metadata": {},
   "outputs": [],
   "source": [
    "def ngramUmjeol(term, n=2):\n",
    "    ngram = []   \n",
    "    for i in range(len(term) - n + 1):\n",
    "        ngram.append(''.join(term[i:i + n]))   \n",
    "        \n",
    "    return ngram"
   ]
  },
  {
   "cell_type": "code",
   "execution_count": 33,
   "metadata": {},
   "outputs": [],
   "source": [
    "ngramList = FreqDist()\n",
    "for term in word_tokenize(corpus):\n",
    "    for token in ngramUmjeol(term):\n",
    "        ngramList[term] += 1\n",
    "\n",
    "ngramY = [pair[1] for pair in ngramList.most_common(50)]\n",
    "ngramYY = [math.log10(_) for _ in ngramY]"
   ]
  },
  {
   "cell_type": "code",
   "execution_count": 35,
   "metadata": {},
   "outputs": [
    {
     "data": {
      "image/png": "[encoded data removed]",
      "text/plain": [
       "<Figure size 432x288 with 1 Axes>"
      ]
     },
     "metadata": {},
     "output_type": "display_data"
    }
   ],
   "source": [
    "# 14일에 수집했던 뉴스 기사들에 대해 형태소 분석 후 그래프 그려보기\n",
    "import os\n",
    "\n",
    "corpus = ''\n",
    "path = \"C:/Users/brsta/ICT_AI_AdvanceClass_NLP/0314_DownloadedNewstxts\"\n",
    "for file in [_ for _ in os.listdir(path) if _.endswith('.txt')]:\n",
    "    with open('{0}/{1}'.format(path, file), encoding='utf8') as fp:\n",
    "        corpus += fp.read()\n",
    "\n",
    "rawList = FreqDist()\n",
    "pairList = FreqDist()\n",
    "wordList = FreqDist()\n",
    "posList = FreqDist()\n",
    "\n",
    "tokens = Kkma().pos(corpus)\n",
    "\n",
    "for term in word_tokenize(corpus):\n",
    "    rawList[term] += 1\n",
    "    \n",
    "for pair in tokens:\n",
    "    pairList[pair] += 1\n",
    "    wordList[pair[0]] += 1\n",
    "    posList[pair[1]] += 1\n",
    "        \n",
    "x = range(1,51)\n",
    "\n",
    "y = [pair[1] for pair in rawList.most_common(50)] # 빈도\n",
    "yy = [pair[1] for pair in pairList.most_common(50)]\n",
    "yyy = [pair[1] for pair in wordList.most_common(50)]\n",
    "\n",
    "_y = [math.log10(_) for _ in y]\n",
    "_yy = [math.log10(_) for _ in yy]\n",
    "_yyy = [math.log10(_) for _ in yyy]\n",
    "\n",
    "plt.plot(x, _y, 'r-') \n",
    "plt.plot(x, _yy, 'g-') \n",
    "plt.plot(x, _yyy, 'b-') \n",
    "plt.plot(x, ngramYY, 'y-')\n",
    "plt.xlabel('단어(단어, 품사 쌍)의 순위')\n",
    "plt.ylabel('빈도')\n",
    "plt.show()"
   ]
  },
  {
   "cell_type": "code",
   "execution_count": 36,
   "metadata": {},
   "outputs": [
    {
     "data": {
      "text/plain": [
       "[('26th', 'ult.'),\n ('Abominable', 'scoundrel'),\n ('Agricultural', 'Reports'),\n ('Austen', '1816'),\n ('Baronne', \"d'Almane\"),\n ('Candles', 'everywhere.'),\n ('Clayton', 'Park'),\n ('Comtesse', \"d'Ostalis\"),\n ('DEAR', 'MADAM'),\n ('Farmer', 'Mitchell')]"
      ]
     },
     "execution_count": 36,
     "metadata": {},
     "output_type": "execute_result"
    }
   ],
   "source": [
    "from nltk.collocations import BigramAssocMeasures, BigramCollocationFinder\n",
    "\n",
    "corpus = gutenberg.open(gutenberg.fileids()[0]).read()\n",
    "tokens = word_tokenize(corpus)\n",
    "\n",
    "bigram = BigramCollocationFinder.from_words(tokens) # 어절단위 두개의 쌍 \n",
    "bigram.nbest(BigramAssocMeasures().pmi, 10)"
   ]
  },
  {
   "cell_type": "code",
   "execution_count": 37,
   "metadata": {},
   "outputs": [
    {
     "data": {
      "text/plain": [
       "[(('26th', 'CD'), ('ult.', 'NN')),\n (('Abominable', 'JJ'), ('scoundrel', 'NN')),\n (('Agricultural', 'NNP'), ('Reports', 'NNP')),\n (('Always', 'NNP'), ('deceived', 'VBD')),\n (('Austen', 'NNP'), ('1816', 'CD')),\n (('Baronne', 'NNP'), (\"d'Almane\", 'NN')),\n (('Books', 'NNP'), ('engravings', 'NNS')),\n (('Candles', 'NNP'), ('everywhere.', 'VBP')),\n (('Clayton', 'NNP'), ('Park', 'NNP')),\n (('Comtesse', 'NNP'), (\"d'Ostalis\", 'NN'))]"
      ]
     },
     "execution_count": 37,
     "metadata": {},
     "output_type": "execute_result"
    }
   ],
   "source": [
    "corpus = gutenberg.open(gutenberg.fileids()[0]).read()\n",
    "result = pos_tag(word_tokenize(corpus))\n",
    "\n",
    "tokens = [row for row in result if len(row[0]) > 2]\n",
    "# tokens = [row[0] for row in pos_tag(corpus) if len(row[0]) > 2]\n",
    "# tokens = [row[1] for row in pos_tag(corpus) if len(row[0]) > 2]\n",
    "\n",
    "bigram = BigramCollocationFinder.from_words(tokens)\n",
    "bigram.nbest(BigramAssocMeasures().chi_sq, 10)"
   ]
  },
  {
   "cell_type": "code",
   "execution_count": 38,
   "metadata": {},
   "outputs": [
    {
     "data": {
      "text/plain": [
       "[((('had', 'VBD'), ('been', 'VBN')), 308),\n ((('could', 'MD'), ('not', 'RB')), 277),\n ((('Mr.', 'NNP'), ('Knightley', 'NNP')), 274),\n ((('and', 'CC'), ('the', 'DT')), 257),\n ((('she', 'PRP'), ('had', 'VBD')), 254),\n ((('Mrs.', 'NNP'), ('Weston', 'NNP')), 246),\n ((('she', 'PRP'), ('was', 'VBD')), 218),\n ((('Mr.', 'NNP'), ('Elton', 'NNP')), 211),\n ((('that', 'IN'), ('she', 'PRP')), 186),\n ((('did', 'VBD'), ('not', 'RB')), 179)]"
      ]
     },
     "execution_count": 38,
     "metadata": {},
     "output_type": "execute_result"
    }
   ],
   "source": [
    "bigram.ngram_fd.most_common(10)"
   ]
  },
  {
   "cell_type": "code",
   "execution_count": 39,
   "metadata": {},
   "outputs": [
    {
     "data": {
      "text/plain": [
       "([(('가부', 'NNG'), ('동수', 'NNG')),\n  (('강제', 'NNG'), ('노역', 'NNG')),\n  (('경자', 'NNG'), ('유전', 'NNG')),\n  (('고', 'ECS'), ('채취', 'NNG')),\n  (('공무', 'NNG'), ('담임', 'NNG')),\n  (('공중', 'NNG'), ('도덕', 'NNG')),\n  (('과반', 'NNG'), ('수가', 'NNG')),\n  (('교전', 'NNG'), ('상태', 'NNG')),\n  (('그러', 'VV'), ('나', 'ECE')),\n  (('기본적', 'NNG'), ('인권', 'NNG'))],\n [(('가부', 'NNG'), ('동수', 'NNG')),\n  (('강제', 'NNG'), ('노역', 'NNG')),\n  (('경자', 'NNG'), ('유전', 'NNG')),\n  (('고', 'ECS'), ('채취', 'NNG')),\n  (('공무', 'NNG'), ('담임', 'NNG')),\n  (('공중', 'NNG'), ('도덕', 'NNG')),\n  (('과반', 'NNG'), ('수가', 'NNG')),\n  (('교전', 'NNG'), ('상태', 'NNG')),\n  (('그러', 'VV'), ('나', 'ECE')),\n  (('기본적', 'NNG'), ('인권', 'NNG'))])"
      ]
     },
     "execution_count": 39,
     "metadata": {},
     "output_type": "execute_result"
    }
   ],
   "source": [
    "corpus = kolaw.open(kolaw.fileids()[0]).read()\n",
    "tokens = Kkma().pos(corpus)\n",
    "\n",
    "bigram = BigramCollocationFinder.from_words(tokens) # bigram 객체 생성\n",
    "bigram.nbest(BigramAssocMeasures().pmi, 10), bigram.nbest(BigramAssocMeasures().chi_sq, 10)"
   ]
  },
  {
   "cell_type": "code",
   "execution_count": 40,
   "metadata": {},
   "outputs": [
    {
     "data": {
      "text/plain": [
       "([('가부', '동수'),\n  ('강제', '노역'),\n  ('경자', '유전'),\n  ('공무', '담임'),\n  ('공중', '도덕'),\n  ('과반', '수가'),\n  ('교전', '상태'),\n  ('기본적', '인권'),\n  ('노인과', '청소년'),\n  ('다수', '표')],\n [('가부', '동수'),\n  ('강제', '노역'),\n  ('경자', '유전'),\n  ('공무', '담임'),\n  ('공중', '도덕'),\n  ('과반', '수가'),\n  ('교전', '상태'),\n  ('기본적', '인권'),\n  ('내부', '규율'),\n  ('노인과', '청소년')])"
      ]
     },
     "execution_count": 40,
     "metadata": {},
     "output_type": "execute_result"
    }
   ],
   "source": [
    "tokens = [pair[0] for pair in Kkma().pos(corpus)]\n",
    "\n",
    "bigram = BigramCollocationFinder.from_words(tokens)\n",
    "bigram.nbest(BigramAssocMeasures().pmi, 10), bigram.nbest(BigramAssocMeasures().chi_sq, 10),"
   ]
  },
  {
   "cell_type": "code",
   "execution_count": 42,
   "metadata": {},
   "outputs": [
    {
     "data": {
      "text/plain": [
       "([('XR', 'XSA'),\n  ('JKC', 'VCN'),\n  ('EPT', 'EPT'),\n  ('VCN', 'ECD'),\n  ('ECD', 'VX'),\n  ('ECD', 'VXV'),\n  ('JC', 'XPN'),\n  ('ECE', 'XR'),\n  ('NNP', 'VCP'),\n  ('NNB', 'VA')],\n [('EFN', 'SF'),\n  ('XR', 'XSA'),\n  ('ECD', 'VXV'),\n  ('SF', 'SW'),\n  ('SF', 'NP'),\n  ('NR', 'NNM'),\n  ('NP', 'JKG'),\n  ('ETD', 'NNB'),\n  ('XSV', 'ETD'),\n  ('VV', 'ECS')])"
      ]
     },
     "execution_count": 42,
     "metadata": {},
     "output_type": "execute_result"
    }
   ],
   "source": [
    "tokens = [pair[1] for pair in Kkma().pos(corpus)]\n",
    "\n",
    "# bigram.nbest(measure.pmi, 10) # 제일 무난한 통계 기법. 감성 분석에도 응용됨. \n",
    "bigram = BigramCollocationFinder.from_words(tokens)\n",
    "bigram.nbest(BigramAssocMeasures().pmi, 10), bigram.nbest(BigramAssocMeasures().chi_sq, 10)"
   ]
  }
 ],
 "metadata": {
  "kernelspec": {
   "display_name": "Python 3",
   "language": "python",
   "name": "python3"
  },
  "language_info": {
   "codemirror_mode": {
    "name": "ipython",
    "version": 3
   },
   "file_extension": ".py",
   "mimetype": "text/x-python",
   "name": "python",
   "nbconvert_exporter": "python",
   "pygments_lexer": "ipython3",
   "version": "3.7.1"
  }
 },
 "nbformat": 4,
 "nbformat_minor": 2
}
